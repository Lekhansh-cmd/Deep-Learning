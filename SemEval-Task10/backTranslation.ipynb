{
 "cells": [
  {
   "cell_type": "code",
   "execution_count": 1,
   "metadata": {},
   "outputs": [
    {
     "name": "stdout",
     "output_type": "stream",
     "text": [
      "Hello\n"
     ]
    }
   ],
   "source": [
    "from BackTranslation import BackTranslation\n",
    "trans = BackTranslation(url=[\n",
    "      'translate.google.com',\n",
    "      'translate.google.co.kr',\n",
    "    ], proxies={'http': '127.0.0.1:1234', 'http://host.name': '127.0.0.1:4012'})\n",
    "result = trans.translate('hello', src='en', tmp = 'zh-cn')\n",
    "print(result.result_text)"
   ]
  },
  {
   "cell_type": "code",
   "execution_count": 2,
   "metadata": {},
   "outputs": [
    {
     "name": "stdout",
     "output_type": "stream",
     "text": [
      "Buy ring.Make sure it.Let her wear it for a while.Give her to steal her.Collect insurance.Divide the resale value into a thief.She will be too afraid of wanting a big ring.Buy cheap bands.make money.\n"
     ]
    }
   ],
   "source": [
    "trans = BackTranslation(url=[\n",
    "      'translate.google.com',\n",
    "      'translate.google.co.kr',\n",
    "    ], proxies={'http': '127.0.0.1:1234', 'http://host.name': '127.0.0.1:4012'})\n",
    "result = trans.translate('Buy the ring. Insure it. Let her wear it for awhile. Pay someone to steal from her. Collect the insurance. Split the resale value with the thief. She will be too scared to want a big ring. Buy a cheap band. Turn a profit.', src='en', tmp = 'zh-cn')\n",
    "print(result.result_text)"
   ]
  },
  {
   "cell_type": "code",
   "execution_count": 1,
   "metadata": {},
   "outputs": [],
   "source": [
    "import pandas as pd\n",
    "import numpy as np\n",
    "import seaborn as sns\n",
    "import matplotlib.pyplot as plt"
   ]
  },
  {
   "cell_type": "code",
   "execution_count": 47,
   "metadata": {},
   "outputs": [],
   "source": [
    "df = pd.read_csv(\"C:/Users/mufdu/Documents/Deep-Learning/SemEval-Task10/data/train_all_tasks.csv\")"
   ]
  },
  {
   "cell_type": "code",
   "execution_count": 3,
   "metadata": {},
   "outputs": [
    {
     "name": "stdout",
     "output_type": "stream",
     "text": [
      "[\"[USER] I may be in the minority but I get a kick out of the female form, even dressed like that. Provided, of course, that there's nothing extra visible and hanging over :)\"]\n"
     ]
    }
   ],
   "source": [
    "print(df.loc[[633]].text.values)"
   ]
  },
  {
   "cell_type": "code",
   "execution_count": 4,
   "metadata": {},
   "outputs": [],
   "source": [
    "from transformers import MarianMTModel, MarianTokenizer"
   ]
  },
  {
   "cell_type": "code",
   "execution_count": 6,
   "metadata": {},
   "outputs": [
    {
     "data": {
      "application/vnd.jupyter.widget-view+json": {
       "model_id": "e7e2718982294375bb17c49c8c8338b9",
       "version_major": 2,
       "version_minor": 0
      },
      "text/plain": [
       "Downloading:   0%|          | 0.00/778k [00:00<?, ?B/s]"
      ]
     },
     "metadata": {},
     "output_type": "display_data"
    },
    {
     "name": "stderr",
     "output_type": "stream",
     "text": [
      "c:\\Users\\mufdu\\anaconda3\\envs\\pytorch_env\\lib\\site-packages\\huggingface_hub\\file_download.py:127: UserWarning: `huggingface_hub` cache-system uses symlinks by default to efficiently store duplicated files but your machine does not support them in C:\\Users\\mufdu\\.cache\\huggingface\\hub. Caching files will still work but in a degraded version that might require more space on your disk. This warning can be disabled by setting the `HF_HUB_DISABLE_SYMLINKS_WARNING` environment variable. For more details, see https://huggingface.co/docs/huggingface_hub/how-to-cache#limitations.\n",
      "To support symlinks on Windows, you either need to activate Developer Mode or to run Python as an administrator. In order to see activate developer mode, see this article: https://docs.microsoft.com/en-us/windows/apps/get-started/enable-your-device-for-development\n",
      "  warnings.warn(message)\n"
     ]
    },
    {
     "data": {
      "application/vnd.jupyter.widget-view+json": {
       "model_id": "2ed3e4a7e8234af0b42194a35720d913",
       "version_major": 2,
       "version_minor": 0
      },
      "text/plain": [
       "Downloading:   0%|          | 0.00/802k [00:00<?, ?B/s]"
      ]
     },
     "metadata": {},
     "output_type": "display_data"
    },
    {
     "data": {
      "application/vnd.jupyter.widget-view+json": {
       "model_id": "5e5dff1f95354d58bf7985b221343f90",
       "version_major": 2,
       "version_minor": 0
      },
      "text/plain": [
       "Downloading:   0%|          | 0.00/1.34M [00:00<?, ?B/s]"
      ]
     },
     "metadata": {},
     "output_type": "display_data"
    },
    {
     "data": {
      "application/vnd.jupyter.widget-view+json": {
       "model_id": "68ccb09dde274c489ac0537ab1c59f84",
       "version_major": 2,
       "version_minor": 0
      },
      "text/plain": [
       "Downloading:   0%|          | 0.00/42.0 [00:00<?, ?B/s]"
      ]
     },
     "metadata": {},
     "output_type": "display_data"
    },
    {
     "data": {
      "application/vnd.jupyter.widget-view+json": {
       "model_id": "19c13b3235984990acaa6ad157a611e8",
       "version_major": 2,
       "version_minor": 0
      },
      "text/plain": [
       "Downloading:   0%|          | 0.00/1.42k [00:00<?, ?B/s]"
      ]
     },
     "metadata": {},
     "output_type": "display_data"
    },
    {
     "data": {
      "application/vnd.jupyter.widget-view+json": {
       "model_id": "eb7d3968bba64667b3fd797a88e6a86a",
       "version_major": 2,
       "version_minor": 0
      },
      "text/plain": [
       "Downloading:   0%|          | 0.00/1.42k [00:00<?, ?B/s]"
      ]
     },
     "metadata": {},
     "output_type": "display_data"
    },
    {
     "data": {
      "application/vnd.jupyter.widget-view+json": {
       "model_id": "671e9467e6d943109cebdb4b3535d677",
       "version_major": 2,
       "version_minor": 0
      },
      "text/plain": [
       "Downloading:   0%|          | 0.00/301M [00:00<?, ?B/s]"
      ]
     },
     "metadata": {},
     "output_type": "display_data"
    }
   ],
   "source": [
    "# Get the name of the first model\n",
    "first_model_name = 'Helsinki-NLP/opus-mt-en-fr'\n",
    "\n",
    "# Get the tokenizer\n",
    "first_model_tkn = MarianTokenizer.from_pretrained(first_model_name,  force_download=True)\n",
    "\n",
    "# Load the pretrained model based on the name\n",
    "first_model = MarianMTModel.from_pretrained(first_model_name,  force_download=True)"
   ]
  },
  {
   "cell_type": "code",
   "execution_count": 7,
   "metadata": {},
   "outputs": [
    {
     "data": {
      "application/vnd.jupyter.widget-view+json": {
       "model_id": "950072f159d9441b8844464424f62009",
       "version_major": 2,
       "version_minor": 0
      },
      "text/plain": [
       "Downloading:   0%|          | 0.00/802k [00:00<?, ?B/s]"
      ]
     },
     "metadata": {},
     "output_type": "display_data"
    },
    {
     "data": {
      "application/vnd.jupyter.widget-view+json": {
       "model_id": "b894464d54d548c4b8904cebe1879ad3",
       "version_major": 2,
       "version_minor": 0
      },
      "text/plain": [
       "Downloading:   0%|          | 0.00/778k [00:00<?, ?B/s]"
      ]
     },
     "metadata": {},
     "output_type": "display_data"
    },
    {
     "data": {
      "application/vnd.jupyter.widget-view+json": {
       "model_id": "72d4b3548b2c42b0b4b28d567a2a2938",
       "version_major": 2,
       "version_minor": 0
      },
      "text/plain": [
       "Downloading:   0%|          | 0.00/1.34M [00:00<?, ?B/s]"
      ]
     },
     "metadata": {},
     "output_type": "display_data"
    },
    {
     "data": {
      "application/vnd.jupyter.widget-view+json": {
       "model_id": "c06a97aae2ee466ba34c88d6cdf46f94",
       "version_major": 2,
       "version_minor": 0
      },
      "text/plain": [
       "Downloading:   0%|          | 0.00/42.0 [00:00<?, ?B/s]"
      ]
     },
     "metadata": {},
     "output_type": "display_data"
    },
    {
     "data": {
      "application/vnd.jupyter.widget-view+json": {
       "model_id": "1aa2257e63b5427f829786c52dc647ff",
       "version_major": 2,
       "version_minor": 0
      },
      "text/plain": [
       "Downloading:   0%|          | 0.00/1.42k [00:00<?, ?B/s]"
      ]
     },
     "metadata": {},
     "output_type": "display_data"
    },
    {
     "data": {
      "application/vnd.jupyter.widget-view+json": {
       "model_id": "1e0a03a460194d439aa48d2a1aeb7cca",
       "version_major": 2,
       "version_minor": 0
      },
      "text/plain": [
       "Downloading:   0%|          | 0.00/301M [00:00<?, ?B/s]"
      ]
     },
     "metadata": {},
     "output_type": "display_data"
    }
   ],
   "source": [
    "second_model_name = 'Helsinki-NLP/opus-mt-fr-en'\n",
    "\n",
    "# Get the tokenizer\n",
    "second_model_tkn = MarianTokenizer.from_pretrained(second_model_name)\n",
    "\n",
    "# Load the pretrained model based on the name\n",
    "second_model = MarianMTModel.from_pretrained(second_model_name)"
   ]
  },
  {
   "cell_type": "code",
   "execution_count": 8,
   "metadata": {},
   "outputs": [],
   "source": [
    "original_texts = [\n",
    "    \"This article aims to perform the back translation for text data augmentation\",\n",
    "    \"It is the 25th article by Zoumana on Medium. He loves to give back to the community\",\n",
    "    \"The first model translates from English to French, which is a temporary process\",\n",
    "    \"The second model finally translates back all the temporary french text into English\"\n",
    "]"
   ]
  },
  {
   "cell_type": "code",
   "execution_count": 9,
   "metadata": {},
   "outputs": [],
   "source": [
    "def format_batch_texts(language_code, batch_texts):\n",
    "  \n",
    "  formated_bach = [\">>{}<< {}\".format(language_code, text) for text in batch_texts]\n",
    "\n",
    "  return formated_bach\n",
    "\n",
    "def perform_translation(batch_texts, model, tokenizer, language=\"fr\"):\n",
    "    # Prepare the text data into appropriate format for the model\n",
    "    formated_batch_texts = format_batch_texts(language, batch_texts)\n",
    "    \n",
    "    # Generate translation using model\n",
    "    translated = model.generate(**tokenizer(formated_batch_texts, return_tensors=\"pt\", padding=True))\n",
    "\n",
    "    # Convert the generated tokens indices back into text\n",
    "    translated_texts = [tokenizer.decode(t, skip_special_tokens=True) for t in translated]\n",
    "    \n",
    "    return translated_texts\n",
    "\n",
    "def combine_texts(original_texts, back_translated_batch):\n",
    "  \n",
    "  return set(original_texts + back_translated_batch) \n",
    "  \n",
    "def perform_back_translation_with_augmentation(batch_texts, original_language=\"en\", temporary_language=\"fr\"):\n",
    "\n",
    "  # Translate from Original to Temporary Language\n",
    "  tmp_translated_batch = perform_translation(batch_texts, first_model, first_model_tkn, temporary_language)\n",
    "\n",
    "  # Translate Back to English\n",
    "  back_translated_batch = perform_translation(tmp_translated_batch, second_model, second_model_tkn, original_language)\n",
    "\n",
    "  # Return The Final Result\n",
    "  return combine_texts(original_texts, back_translated_batch)"
   ]
  },
  {
   "cell_type": "code",
   "execution_count": 10,
   "metadata": {},
   "outputs": [
    {
     "name": "stderr",
     "output_type": "stream",
     "text": [
      "c:\\Users\\mufdu\\anaconda3\\envs\\pytorch_env\\lib\\site-packages\\transformers\\generation\\utils.py:1387: UserWarning: Neither `max_length` nor `max_new_tokens` has been set, `max_length` will default to 512 (`self.config.max_length`). Controlling `max_length` via the config is deprecated and `max_length` will be removed from the config in v5 of Transformers -- we recommend using `max_new_tokens` to control the maximum length of the generation.\n",
      "  warnings.warn(\n"
     ]
    },
    {
     "name": "stdout",
     "output_type": "stream",
     "text": [
      "{'This article aims to perform back translation for text data increase', \"This is Zoumana's 25th article on Medium. He likes to give back to the community.\", 'This article aims to perform the back translation for text data augmentation', 'The first model translates from English to French, which is a temporary process', 'The second model finally translates all the temporary French text into English', 'It is the 25th article by Zoumana on Medium. He loves to give back to the community', 'The second model finally translates back all the temporary french text into English'}\n"
     ]
    }
   ],
   "source": [
    "final_augmented = perform_back_translation_with_augmentation(original_texts)\n",
    "print(final_augmented)"
   ]
  },
  {
   "cell_type": "code",
   "execution_count": 48,
   "metadata": {},
   "outputs": [
    {
     "name": "stdout",
     "output_type": "stream",
     "text": [
      "<class 'pandas.core.frame.DataFrame'>\n",
      "Int64Index: 3398 entries, 8 to 13995\n",
      "Data columns (total 5 columns):\n",
      " #   Column          Non-Null Count  Dtype \n",
      "---  ------          --------------  ----- \n",
      " 0   rewire_id       3398 non-null   object\n",
      " 1   text            3398 non-null   object\n",
      " 2   label_sexist    3398 non-null   object\n",
      " 3   label_category  3398 non-null   object\n",
      " 4   label_vector    3398 non-null   object\n",
      "dtypes: object(5)\n",
      "memory usage: 159.3+ KB\n"
     ]
    }
   ],
   "source": [
    "df = df[df['label_sexist'] == 'sexist']\n",
    "df.info()"
   ]
  },
  {
   "cell_type": "code",
   "execution_count": 40,
   "metadata": {},
   "outputs": [
    {
     "name": "stdout",
     "output_type": "stream",
     "text": [
      "{'3.3 backhanded gendered compliments', '2.1 descriptive attacks', '1.2 incitement and encouragement of harm', '2.3 dehumanising attacks & overt sexual objectification', '4.1 supporting mistreatment of individual women', '3.4 condescending explanations or unwelcome advice', '3.2 immutable gender differences and gender stereotypes', '3.1 casual use of gendered slurs, profanities, and insults', '1.1 threats of harm', '2.2 aggressive and emotive attacks', '4.2 supporting systemic discrimination against women as a group'}\n",
      "<class 'pandas.core.frame.DataFrame'>\n",
      "Int64Index: 2 entries, 3334 to 3335\n",
      "Data columns (total 5 columns):\n",
      " #   Column          Non-Null Count  Dtype \n",
      "---  ------          --------------  ----- \n",
      " 0   rewire_id       2 non-null      object\n",
      " 1   text            2 non-null      object\n",
      " 2   label_sexist    2 non-null      object\n",
      " 3   label_category  2 non-null      object\n",
      " 4   label_vector    2 non-null      object\n",
      "dtypes: object(5)\n",
      "memory usage: 96.0+ bytes\n"
     ]
    }
   ],
   "source": [
    "# list_vector = df.label_vector.to_list()\n",
    "# types_vector = set(list_vector)\n",
    "# print(types_vector)\n",
    "\n",
    "# list_of_lists=[]\n",
    "# new_df = df[df['label_vector'] == '3.3 backhanded gendered compliments']\n",
    "\n",
    "# df = df[df.label_vector != '3.3 backhanded gendered compliments']\n",
    "# new_row = {'rewire_id': ['asdas' + str(1)], 'text': ['asdasd'], 'label_sexist': ['sexist'], 'label_category': ['3. animosity'], 'label_vector': ['3.3 backhanded gendered compliments']}\n",
    "# new_row2 = {'rewire_id': ['asdas' + str(2)], 'text': ['assdsdcdasd'], 'label_sexist': ['sexist'], 'label_category': ['3. animosity'], 'label_vector': ['3.3 backhanded gendered compliments']}\n",
    "# list_of_lists.append(new_row)\n",
    "# list_of_lists.append(new_row2)\n",
    "# for i in list_of_lists:\n",
    "#     df = pd.concat([df, pd.DataFrame.from_records(i)], ignore_index=True)\n",
    "    \n",
    "# new_df = df[df['label_vector'] == '3.3 backhanded gendered compliments']\n",
    "# new_df.info()\n",
    "# for t in types_vector:\n",
    "#   list_of_lists = []\n",
    "#   new_df = df[df['label_vector'] == t]\n",
    "#   print(t)\n",
    "#   print(\"Old records\",new_df.shape[0])\n",
    "\n",
    "#   category = new_df[\"label_category\"].values[0]\n",
    "#   texts = new_df.text.to_list()\n",
    "#   final_augmented = perform_back_translation_with_augmentation(texts)\n",
    "#   df = df[df.label_vector != t]\n",
    "#   count = 0\n",
    "#   for i in final_augmented:\n",
    "#     new_row = {'rewire_id': [t + str(count)], 'text': [i], 'label_sexist': ['sexist'], 'label_category': [category], 'label_vector': [t]}\n",
    "#     count = count + 1 \n",
    "#     list_of_lists.append(new_row)\n",
    "\n",
    "#   df = pd.concat([df, pd.DataFrame.from_records(new_row)])\n",
    "#   new_df = df[df['label_vector'] == t]\n",
    "#   print(\"New records\",new_df.shape[0])"
   ]
  },
  {
   "cell_type": "code",
   "execution_count": 49,
   "metadata": {},
   "outputs": [],
   "source": [
    "import warnings\n",
    "warnings.filterwarnings('ignore')"
   ]
  },
  {
   "cell_type": "code",
   "execution_count": 50,
   "metadata": {},
   "outputs": [],
   "source": [
    "for index, row in df.iterrows():\n",
    "  original_text = '>>fr<<' + row['text']\n",
    "  translated = first_model.generate(**first_model_tkn(original_text, return_tensors=\"pt\", padding=True))\n",
    "  translated_texts = [first_model_tkn.decode(t, skip_special_tokens=True) for t in translated]\n",
    "  back_translated = second_model.generate(**second_model_tkn(translated_texts, return_tensors=\"pt\", padding=True))\n",
    "  back_translated_texts = [second_model_tkn.decode(t, skip_special_tokens=True) for t in back_translated]\n",
    "  if row['text'] != back_translated_texts[0]:\n",
    "    new_row = {'rewire_id': row[\"rewire_id\"], 'text':back_translated_texts[0], 'label_sexist':row[\"label_sexist\"], 'label_category':row[\"label_category\"], 'label_vector':row[\"label_vector\"]}\n",
    "    df = df.append(new_row, ignore_index=True)"
   ]
  },
  {
   "cell_type": "code",
   "execution_count": 51,
   "metadata": {},
   "outputs": [
    {
     "name": "stdout",
     "output_type": "stream",
     "text": [
      "<class 'pandas.core.frame.DataFrame'>\n",
      "RangeIndex: 6748 entries, 0 to 6747\n",
      "Data columns (total 5 columns):\n",
      " #   Column          Non-Null Count  Dtype \n",
      "---  ------          --------------  ----- \n",
      " 0   rewire_id       6748 non-null   object\n",
      " 1   text            6748 non-null   object\n",
      " 2   label_sexist    6748 non-null   object\n",
      " 3   label_category  6748 non-null   object\n",
      " 4   label_vector    6748 non-null   object\n",
      "dtypes: object(5)\n",
      "memory usage: 263.7+ KB\n"
     ]
    }
   ],
   "source": [
    "df.info()"
   ]
  },
  {
   "cell_type": "code",
   "execution_count": 53,
   "metadata": {},
   "outputs": [],
   "source": [
    "df.to_csv('new_data.csv') "
   ]
  },
  {
   "cell_type": "code",
   "execution_count": 56,
   "metadata": {},
   "outputs": [
    {
     "data": {
      "text/plain": [
       "Text(0.5, 0, 'label')"
      ]
     },
     "execution_count": 56,
     "metadata": {},
     "output_type": "execute_result"
    },
    {
     "data": {
      "image/png": "[encoded data removed]",
      "text/plain": [
       "<Figure size 960x480 with 1 Axes>"
      ]
     },
     "metadata": {},
     "output_type": "display_data"
    }
   ],
   "source": [
    "from matplotlib.pyplot import figure\n",
    "\n",
    "figure(figsize=(12, 6), dpi=80)\n",
    "sns.countplot(x = df.label_category)\n",
    "plt.xlabel('label')"
   ]
  }
 ],
 "metadata": {
  "kernelspec": {
   "display_name": "pytorch_env",
   "language": "python",
   "name": "python3"
  },
  "language_info": {
   "codemirror_mode": {
    "name": "ipython",
    "version": 3
   },
   "file_extension": ".py",
   "mimetype": "text/x-python",
   "name": "python",
   "nbconvert_exporter": "python",
   "pygments_lexer": "ipython3",
   "version": "3.8.15"
  },
  "orig_nbformat": 4,
  "vscode": {
   "interpreter": {
    "hash": "d01d8ed38fd5c42ce5f01f36df1174812cf8ee2205db93c583d36a3079f8977c"
   }
  }
 },
 "nbformat": 4,
 "nbformat_minor": 2
}
