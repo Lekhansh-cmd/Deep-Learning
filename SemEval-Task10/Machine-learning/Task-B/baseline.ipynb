{
 "cells": [
  {
   "cell_type": "code",
   "execution_count": 1,
   "metadata": {},
   "outputs": [],
   "source": [
    "import pandas as pd\n",
    "import numpy as np\n",
    "import seaborn as sns\n",
    "import matplotlib.pyplot as plt"
   ]
  },
  {
   "cell_type": "code",
   "execution_count": 2,
   "metadata": {},
   "outputs": [
    {
     "data": {
      "text/html": [
       "<div>\n",
       "<style scoped>\n",
       "    .dataframe tbody tr th:only-of-type {\n",
       "        vertical-align: middle;\n",
       "    }\n",
       "\n",
       "    .dataframe tbody tr th {\n",
       "        vertical-align: top;\n",
       "    }\n",
       "\n",
       "    .dataframe thead th {\n",
       "        text-align: right;\n",
       "    }\n",
       "</style>\n",
       "<table border=\"1\" class=\"dataframe\">\n",
       "  <thead>\n",
       "    <tr style=\"text-align: right;\">\n",
       "      <th></th>\n",
       "      <th>rewire_id</th>\n",
       "      <th>text</th>\n",
       "      <th>label_sexist</th>\n",
       "      <th>label_category</th>\n",
       "      <th>label_vector</th>\n",
       "    </tr>\n",
       "  </thead>\n",
       "  <tbody>\n",
       "    <tr>\n",
       "      <th>0</th>\n",
       "      <td>sexism2022_english-7358</td>\n",
       "      <td>Damn, this writing was pretty chaotic</td>\n",
       "      <td>not sexist</td>\n",
       "      <td>none</td>\n",
       "      <td>none</td>\n",
       "    </tr>\n",
       "    <tr>\n",
       "      <th>1</th>\n",
       "      <td>sexism2022_english-2367</td>\n",
       "      <td>Yeah, and apparently a bunch of misogynistic v...</td>\n",
       "      <td>not sexist</td>\n",
       "      <td>none</td>\n",
       "      <td>none</td>\n",
       "    </tr>\n",
       "    <tr>\n",
       "      <th>2</th>\n",
       "      <td>sexism2022_english-3073</td>\n",
       "      <td>How the FUCK is this woman still an MP!!!???</td>\n",
       "      <td>not sexist</td>\n",
       "      <td>none</td>\n",
       "      <td>none</td>\n",
       "    </tr>\n",
       "    <tr>\n",
       "      <th>3</th>\n",
       "      <td>sexism2022_english-14895</td>\n",
       "      <td>Understand. Know you're right. At same time I ...</td>\n",
       "      <td>not sexist</td>\n",
       "      <td>none</td>\n",
       "      <td>none</td>\n",
       "    </tr>\n",
       "    <tr>\n",
       "      <th>4</th>\n",
       "      <td>sexism2022_english-4118</td>\n",
       "      <td>Surprized they didn't stop and rape some women</td>\n",
       "      <td>not sexist</td>\n",
       "      <td>none</td>\n",
       "      <td>none</td>\n",
       "    </tr>\n",
       "  </tbody>\n",
       "</table>\n",
       "</div>"
      ],
      "text/plain": [
       "                  rewire_id  \\\n",
       "0   sexism2022_english-7358   \n",
       "1   sexism2022_english-2367   \n",
       "2   sexism2022_english-3073   \n",
       "3  sexism2022_english-14895   \n",
       "4   sexism2022_english-4118   \n",
       "\n",
       "                                                text label_sexist  \\\n",
       "0              Damn, this writing was pretty chaotic   not sexist   \n",
       "1  Yeah, and apparently a bunch of misogynistic v...   not sexist   \n",
       "2       How the FUCK is this woman still an MP!!!???   not sexist   \n",
       "3  Understand. Know you're right. At same time I ...   not sexist   \n",
       "4     Surprized they didn't stop and rape some women   not sexist   \n",
       "\n",
       "  label_category label_vector  \n",
       "0           none         none  \n",
       "1           none         none  \n",
       "2           none         none  \n",
       "3           none         none  \n",
       "4           none         none  "
      ]
     },
     "execution_count": 2,
     "metadata": {},
     "output_type": "execute_result"
    }
   ],
   "source": [
    "df = pd.read_csv(\"C:/Users/mufdu/Documents/Deep-Learning/SemEval-Task10/data/train_all_tasks.csv\")\n",
    "df.head()"
   ]
  },
  {
   "cell_type": "code",
   "execution_count": 3,
   "metadata": {},
   "outputs": [
    {
     "data": {
      "text/html": [
       "<div>\n",
       "<style scoped>\n",
       "    .dataframe tbody tr th:only-of-type {\n",
       "        vertical-align: middle;\n",
       "    }\n",
       "\n",
       "    .dataframe tbody tr th {\n",
       "        vertical-align: top;\n",
       "    }\n",
       "\n",
       "    .dataframe thead th {\n",
       "        text-align: right;\n",
       "    }\n",
       "</style>\n",
       "<table border=\"1\" class=\"dataframe\">\n",
       "  <thead>\n",
       "    <tr style=\"text-align: right;\">\n",
       "      <th></th>\n",
       "      <th>rewire_id</th>\n",
       "      <th>text</th>\n",
       "      <th>label_sexist</th>\n",
       "      <th>label_category</th>\n",
       "      <th>label_vector</th>\n",
       "    </tr>\n",
       "  </thead>\n",
       "  <tbody>\n",
       "    <tr>\n",
       "      <th>8</th>\n",
       "      <td>sexism2022_english-10142</td>\n",
       "      <td>just the inside of your wallet: cash, bank car...</td>\n",
       "      <td>sexist</td>\n",
       "      <td>2. derogation</td>\n",
       "      <td>2.3 dehumanising attacks &amp; overt sexual object...</td>\n",
       "    </tr>\n",
       "    <tr>\n",
       "      <th>11</th>\n",
       "      <td>sexism2022_english-760</td>\n",
       "      <td>They get the initial chance because they are a...</td>\n",
       "      <td>sexist</td>\n",
       "      <td>2. derogation</td>\n",
       "      <td>2.1 descriptive attacks</td>\n",
       "    </tr>\n",
       "    <tr>\n",
       "      <th>17</th>\n",
       "      <td>sexism2022_english-1108</td>\n",
       "      <td>ugly chicks A pussy is a pussy.</td>\n",
       "      <td>sexist</td>\n",
       "      <td>2. derogation</td>\n",
       "      <td>2.3 dehumanising attacks &amp; overt sexual object...</td>\n",
       "    </tr>\n",
       "    <tr>\n",
       "      <th>18</th>\n",
       "      <td>sexism2022_english-10099</td>\n",
       "      <td>fuck her off with a nine mm this is what you g...</td>\n",
       "      <td>sexist</td>\n",
       "      <td>1. threats, plans to harm and incitement</td>\n",
       "      <td>1.2 incitement and encouragement of harm</td>\n",
       "    </tr>\n",
       "    <tr>\n",
       "      <th>19</th>\n",
       "      <td>sexism2022_english-10014</td>\n",
       "      <td>How about I talk shit to an idiot like you? Ar...</td>\n",
       "      <td>sexist</td>\n",
       "      <td>3. animosity</td>\n",
       "      <td>3.1 casual use of gendered slurs, profanities,...</td>\n",
       "    </tr>\n",
       "    <tr>\n",
       "      <th>21</th>\n",
       "      <td>sexism2022_english-10606</td>\n",
       "      <td>If you want to attack culture and norms you ha...</td>\n",
       "      <td>sexist</td>\n",
       "      <td>4. prejudiced discussions</td>\n",
       "      <td>4.2 supporting systemic discrimination against...</td>\n",
       "    </tr>\n",
       "    <tr>\n",
       "      <th>24</th>\n",
       "      <td>sexism2022_english-16370</td>\n",
       "      <td>Nah, black women still get more replies on tin...</td>\n",
       "      <td>sexist</td>\n",
       "      <td>4. prejudiced discussions</td>\n",
       "      <td>4.2 supporting systemic discrimination against...</td>\n",
       "    </tr>\n",
       "    <tr>\n",
       "      <th>25</th>\n",
       "      <td>sexism2022_english-4429</td>\n",
       "      <td>dumb ass women today ask more why you are not ...</td>\n",
       "      <td>sexist</td>\n",
       "      <td>2. derogation</td>\n",
       "      <td>2.2 aggressive and emotive attacks</td>\n",
       "    </tr>\n",
       "    <tr>\n",
       "      <th>32</th>\n",
       "      <td>sexism2022_english-18545</td>\n",
       "      <td>Men can be whores also.</td>\n",
       "      <td>sexist</td>\n",
       "      <td>3. animosity</td>\n",
       "      <td>3.1 casual use of gendered slurs, profanities,...</td>\n",
       "    </tr>\n",
       "    <tr>\n",
       "      <th>33</th>\n",
       "      <td>sexism2022_english-11481</td>\n",
       "      <td>Husbands. Kill your piece of shit commie wives</td>\n",
       "      <td>sexist</td>\n",
       "      <td>1. threats, plans to harm and incitement</td>\n",
       "      <td>1.2 incitement and encouragement of harm</td>\n",
       "    </tr>\n",
       "  </tbody>\n",
       "</table>\n",
       "</div>"
      ],
      "text/plain": [
       "                   rewire_id  \\\n",
       "8   sexism2022_english-10142   \n",
       "11    sexism2022_english-760   \n",
       "17   sexism2022_english-1108   \n",
       "18  sexism2022_english-10099   \n",
       "19  sexism2022_english-10014   \n",
       "21  sexism2022_english-10606   \n",
       "24  sexism2022_english-16370   \n",
       "25   sexism2022_english-4429   \n",
       "32  sexism2022_english-18545   \n",
       "33  sexism2022_english-11481   \n",
       "\n",
       "                                                 text label_sexist  \\\n",
       "8   just the inside of your wallet: cash, bank car...       sexist   \n",
       "11  They get the initial chance because they are a...       sexist   \n",
       "17                    ugly chicks A pussy is a pussy.       sexist   \n",
       "18  fuck her off with a nine mm this is what you g...       sexist   \n",
       "19  How about I talk shit to an idiot like you? Ar...       sexist   \n",
       "21  If you want to attack culture and norms you ha...       sexist   \n",
       "24  Nah, black women still get more replies on tin...       sexist   \n",
       "25  dumb ass women today ask more why you are not ...       sexist   \n",
       "32                            Men can be whores also.       sexist   \n",
       "33     Husbands. Kill your piece of shit commie wives       sexist   \n",
       "\n",
       "                              label_category  \\\n",
       "8                              2. derogation   \n",
       "11                             2. derogation   \n",
       "17                             2. derogation   \n",
       "18  1. threats, plans to harm and incitement   \n",
       "19                              3. animosity   \n",
       "21                 4. prejudiced discussions   \n",
       "24                 4. prejudiced discussions   \n",
       "25                             2. derogation   \n",
       "32                              3. animosity   \n",
       "33  1. threats, plans to harm and incitement   \n",
       "\n",
       "                                         label_vector  \n",
       "8   2.3 dehumanising attacks & overt sexual object...  \n",
       "11                            2.1 descriptive attacks  \n",
       "17  2.3 dehumanising attacks & overt sexual object...  \n",
       "18           1.2 incitement and encouragement of harm  \n",
       "19  3.1 casual use of gendered slurs, profanities,...  \n",
       "21  4.2 supporting systemic discrimination against...  \n",
       "24  4.2 supporting systemic discrimination against...  \n",
       "25                 2.2 aggressive and emotive attacks  \n",
       "32  3.1 casual use of gendered slurs, profanities,...  \n",
       "33           1.2 incitement and encouragement of harm  "
      ]
     },
     "execution_count": 3,
     "metadata": {},
     "output_type": "execute_result"
    }
   ],
   "source": [
    "df = df[df['label_sexist'] == 'sexist']\n",
    "df.head(10)"
   ]
  },
  {
   "cell_type": "code",
   "execution_count": 4,
   "metadata": {},
   "outputs": [],
   "source": [
    "from sklearn.feature_extraction.text import TfidfVectorizer\n",
    "from sklearn.model_selection import train_test_split\n",
    "from sklearn.preprocessing import LabelEncoder"
   ]
  },
  {
   "cell_type": "code",
   "execution_count": 5,
   "metadata": {},
   "outputs": [],
   "source": [
    "X = df.text\n",
    "tfid_vec = TfidfVectorizer().fit(X)\n",
    "X_corpus =  tfid_vec.transform(X)"
   ]
  },
  {
   "cell_type": "code",
   "execution_count": 6,
   "metadata": {},
   "outputs": [
    {
     "data": {
      "text/plain": [
       "(3398, 9084)"
      ]
     },
     "execution_count": 6,
     "metadata": {},
     "output_type": "execute_result"
    }
   ],
   "source": [
    "X_corpus.shape"
   ]
  },
  {
   "cell_type": "code",
   "execution_count": 7,
   "metadata": {},
   "outputs": [],
   "source": [
    "X = df.text\n",
    "y = df.label_category\n",
    "label_encoder = LabelEncoder().fit(y)\n",
    "encoded_y = label_encoder.transform(y)"
   ]
  },
  {
   "cell_type": "code",
   "execution_count": 8,
   "metadata": {},
   "outputs": [],
   "source": [
    "from sklearn.model_selection import train_test_split\n",
    "from sklearn.metrics import confusion_matrix, accuracy_score, classification_report\n",
    "from sklearn.metrics import f1_score"
   ]
  },
  {
   "cell_type": "code",
   "execution_count": 9,
   "metadata": {},
   "outputs": [],
   "source": [
    "X_train, X_test, y_train, y_test = train_test_split(X_corpus, encoded_y , random_state =42)"
   ]
  },
  {
   "cell_type": "code",
   "execution_count": 10,
   "metadata": {},
   "outputs": [
    {
     "name": "stdout",
     "output_type": "stream",
     "text": [
      "(2548, 9084)\n",
      "(850, 9084)\n"
     ]
    }
   ],
   "source": [
    "print(X_train.shape)\n",
    "print(X_test.shape)"
   ]
  },
  {
   "attachments": {},
   "cell_type": "markdown",
   "metadata": {},
   "source": [
    "**LOGISTIC REGRESSION**"
   ]
  },
  {
   "cell_type": "code",
   "execution_count": 11,
   "metadata": {},
   "outputs": [],
   "source": [
    "from sklearn.linear_model import LogisticRegression"
   ]
  },
  {
   "cell_type": "code",
   "execution_count": 16,
   "metadata": {},
   "outputs": [],
   "source": [
    "l_model = LogisticRegression()\n",
    "l_model.fit(X_train, y_train)\n",
    "l_sentiment_yhat = l_model.predict(X_test)\n",
    "l_sentiment_accuracy = accuracy_score(y_true = y_test, y_pred = l_sentiment_yhat)\n",
    "l_sentiment_f1 = f1_score(y_true = y_test, y_pred = l_sentiment_yhat, average = 'weighted')"
   ]
  },
  {
   "cell_type": "code",
   "execution_count": 17,
   "metadata": {},
   "outputs": [
    {
     "name": "stdout",
     "output_type": "stream",
     "text": [
      "The accuracy from logistic sentiment classification: 0.5458823529411765\n",
      "with f1 score: 0.5048308571255704\n",
      "              precision    recall  f1-score   support\n",
      "\n",
      "           0       0.83      0.27      0.41        70\n",
      "           1       0.56      0.78      0.65       414\n",
      "           2       0.48      0.43      0.45       281\n",
      "           3       0.50      0.01      0.02        85\n",
      "\n",
      "    accuracy                           0.55       850\n",
      "   macro avg       0.59      0.37      0.39       850\n",
      "weighted avg       0.55      0.55      0.50       850\n",
      "\n"
     ]
    }
   ],
   "source": [
    "print(f\"The accuracy from logistic sentiment classification: {l_sentiment_accuracy}\")\n",
    "print(f\"with f1 score: {l_sentiment_f1}\")\n",
    "print(classification_report(y_true = y_test, y_pred = l_sentiment_yhat ))"
   ]
  },
  {
   "cell_type": "code",
   "execution_count": 18,
   "metadata": {},
   "outputs": [
    {
     "data": {
      "text/plain": [
       "Text(0.5, 1.0, 'Sentiment classification')"
      ]
     },
     "execution_count": 18,
     "metadata": {},
     "output_type": "execute_result"
    },
    {
     "data": {
      "image/png": "[encoded data removed]",
      "text/plain": [
       "<Figure size 640x480 with 2 Axes>"
      ]
     },
     "metadata": {},
     "output_type": "display_data"
    }
   ],
   "source": [
    "sns.heatmap(confusion_matrix(y_true= y_test, y_pred = l_sentiment_yhat) / len(l_sentiment_yhat), \n",
    "            annot = True, cmap ='coolwarm')\n",
    "plt.title('Sentiment classification')"
   ]
  },
  {
   "attachments": {},
   "cell_type": "markdown",
   "metadata": {},
   "source": [
    "**Support Vector Classification SVC**"
   ]
  },
  {
   "cell_type": "code",
   "execution_count": 19,
   "metadata": {},
   "outputs": [],
   "source": [
    "from sklearn.svm import SVC"
   ]
  },
  {
   "cell_type": "code",
   "execution_count": 20,
   "metadata": {},
   "outputs": [],
   "source": [
    "svm_model = SVC()\n",
    "svm_model.fit(X_train, y_train)\n",
    "svm_topic_yhat = svm_model.predict(X_test)\n",
    "svm_topic_accuracy = accuracy_score(y_true = y_test, y_pred = svm_topic_yhat )\n",
    "svm_topic_f1 = f1_score(y_true = y_test, y_pred = svm_topic_yhat, average = 'weighted')"
   ]
  },
  {
   "cell_type": "code",
   "execution_count": 21,
   "metadata": {},
   "outputs": [
    {
     "name": "stdout",
     "output_type": "stream",
     "text": [
      "The accuracy from SVM sentiment classification: 0.5317647058823529\n",
      "with f1 score: 0.4576594243063603\n",
      "              precision    recall  f1-score   support\n",
      "\n",
      "           0       0.90      0.13      0.23        70\n",
      "           1       0.52      0.89      0.66       414\n",
      "           2       0.54      0.26      0.35       281\n",
      "           3       0.00      0.00      0.00        85\n",
      "\n",
      "    accuracy                           0.53       850\n",
      "   macro avg       0.49      0.32      0.31       850\n",
      "weighted avg       0.51      0.53      0.46       850\n",
      "\n"
     ]
    }
   ],
   "source": [
    "print(f\"The accuracy from SVM sentiment classification: {svm_topic_accuracy}\")\n",
    "print(f\"with f1 score: {svm_topic_f1}\")\n",
    "print(classification_report(y_true = y_test, y_pred = svm_topic_yhat ))"
   ]
  },
  {
   "cell_type": "code",
   "execution_count": 22,
   "metadata": {},
   "outputs": [
    {
     "data": {
      "text/plain": [
       "Text(0.5, 1.0, 'Sentiment classification')"
      ]
     },
     "execution_count": 22,
     "metadata": {},
     "output_type": "execute_result"
    },
    {
     "data": {
      "image/png": "[encoded data removed]",
      "text/plain": [
       "<Figure size 640x480 with 2 Axes>"
      ]
     },
     "metadata": {},
     "output_type": "display_data"
    }
   ],
   "source": [
    "sns.heatmap(confusion_matrix(y_true= y_test, y_pred = svm_topic_yhat) / len(svm_topic_yhat), \n",
    "            annot = True, cmap ='coolwarm')\n",
    "plt.title('Sentiment classification')"
   ]
  },
  {
   "attachments": {},
   "cell_type": "markdown",
   "metadata": {},
   "source": [
    "**RANDOM FOREST CLASSIFIER**"
   ]
  },
  {
   "cell_type": "code",
   "execution_count": 23,
   "metadata": {},
   "outputs": [],
   "source": [
    "from sklearn.ensemble import RandomForestClassifier"
   ]
  },
  {
   "cell_type": "code",
   "execution_count": 24,
   "metadata": {},
   "outputs": [],
   "source": [
    "rf_model = RandomForestClassifier()\n",
    "rf_model.fit(X_train, y_train)\n",
    "rf_topic_yhat = rf_model.predict(X_test)\n",
    "rf_topic_accuracy = accuracy_score(y_true = y_test, y_pred = rf_topic_yhat )\n",
    "rf_topic_f1 = f1_score(y_true = y_test, y_pred = rf_topic_yhat, average = 'weighted')"
   ]
  },
  {
   "cell_type": "code",
   "execution_count": 27,
   "metadata": {},
   "outputs": [
    {
     "name": "stdout",
     "output_type": "stream",
     "text": [
      "The accuracy from SVM sentiment classification: 0.5352941176470588\n",
      "with f1 score: 0.4763230074188368\n",
      "              precision    recall  f1-score   support\n",
      "\n",
      "           0       0.83      0.21      0.34        70\n",
      "           1       0.53      0.85      0.65       414\n",
      "           2       0.52      0.32      0.39       281\n",
      "           3       0.00      0.00      0.00        85\n",
      "\n",
      "    accuracy                           0.54       850\n",
      "   macro avg       0.47      0.34      0.35       850\n",
      "weighted avg       0.50      0.54      0.48       850\n",
      "\n"
     ]
    },
    {
     "name": "stderr",
     "output_type": "stream",
     "text": [
      "C:\\Users\\mufdu\\AppData\\Local\\Packages\\PythonSoftwareFoundation.Python.3.10_qbz5n2kfra8p0\\LocalCache\\local-packages\\Python310\\site-packages\\sklearn\\metrics\\_classification.py:1344: UndefinedMetricWarning: Precision and F-score are ill-defined and being set to 0.0 in labels with no predicted samples. Use `zero_division` parameter to control this behavior.\n",
      "  _warn_prf(average, modifier, msg_start, len(result))\n",
      "C:\\Users\\mufdu\\AppData\\Local\\Packages\\PythonSoftwareFoundation.Python.3.10_qbz5n2kfra8p0\\LocalCache\\local-packages\\Python310\\site-packages\\sklearn\\metrics\\_classification.py:1344: UndefinedMetricWarning: Precision and F-score are ill-defined and being set to 0.0 in labels with no predicted samples. Use `zero_division` parameter to control this behavior.\n",
      "  _warn_prf(average, modifier, msg_start, len(result))\n",
      "C:\\Users\\mufdu\\AppData\\Local\\Packages\\PythonSoftwareFoundation.Python.3.10_qbz5n2kfra8p0\\LocalCache\\local-packages\\Python310\\site-packages\\sklearn\\metrics\\_classification.py:1344: UndefinedMetricWarning: Precision and F-score are ill-defined and being set to 0.0 in labels with no predicted samples. Use `zero_division` parameter to control this behavior.\n",
      "  _warn_prf(average, modifier, msg_start, len(result))\n"
     ]
    }
   ],
   "source": [
    "print(f\"The accuracy from SVM sentiment classification: {rf_topic_accuracy}\")\n",
    "print(f\"with f1 score: {rf_topic_f1}\")\n",
    "print(classification_report(y_true = y_test, y_pred = rf_topic_yhat ))"
   ]
  },
  {
   "cell_type": "code",
   "execution_count": 29,
   "metadata": {},
   "outputs": [
    {
     "data": {
      "text/plain": [
       "Text(0.5, 1.0, 'Sentiment classification')"
      ]
     },
     "execution_count": 29,
     "metadata": {},
     "output_type": "execute_result"
    },
    {
     "data": {
      "image/png": "[encoded data removed]",
      "text/plain": [
       "<Figure size 640x480 with 2 Axes>"
      ]
     },
     "metadata": {},
     "output_type": "display_data"
    }
   ],
   "source": [
    "sns.heatmap(confusion_matrix(y_true= y_test, y_pred = rf_topic_yhat) / len(rf_topic_yhat), \n",
    "            annot = True, cmap ='coolwarm')\n",
    "plt.title('Sentiment classification')"
   ]
  }
 ],
 "metadata": {
  "kernelspec": {
   "display_name": "Python 3",
   "language": "python",
   "name": "python3"
  },
  "language_info": {
   "codemirror_mode": {
    "name": "ipython",
    "version": 3
   },
   "file_extension": ".py",
   "mimetype": "text/x-python",
   "name": "python",
   "nbconvert_exporter": "python",
   "pygments_lexer": "ipython3",
   "version": "3.10.9"
  },
  "orig_nbformat": 4,
  "vscode": {
   "interpreter": {
    "hash": "33cb8dcd6da4abc2968e98149dd11acebf22390df4c1451c42c8473575487aab"
   }
  }
 },
 "nbformat": 4,
 "nbformat_minor": 2
}
