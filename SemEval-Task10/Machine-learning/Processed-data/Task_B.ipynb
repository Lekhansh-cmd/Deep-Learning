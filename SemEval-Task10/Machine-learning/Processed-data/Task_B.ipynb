{
  "cells": [
    {
      "cell_type": "code",
      "execution_count": 14,
      "metadata": {
        "id": "-VstpbBuUggb"
      },
      "outputs": [],
      "source": [
        "import pandas as pd\n",
        "import numpy as np\n",
        "import seaborn as sns\n",
        "import matplotlib.pyplot as plt"
      ]
    },
    {
      "cell_type": "code",
      "execution_count": 15,
      "metadata": {
        "colab": {
          "base_uri": "https://localhost:8080/",
          "height": 337
        },
        "id": "uBzfosBBUggm",
        "outputId": "bacb0187-b9e3-4368-f0ec-a2d433f5c37a"
      },
      "outputs": [
        {
          "data": {
            "text/html": [
              "<div>\n",
              "<style scoped>\n",
              "    .dataframe tbody tr th:only-of-type {\n",
              "        vertical-align: middle;\n",
              "    }\n",
              "\n",
              "    .dataframe tbody tr th {\n",
              "        vertical-align: top;\n",
              "    }\n",
              "\n",
              "    .dataframe thead th {\n",
              "        text-align: right;\n",
              "    }\n",
              "</style>\n",
              "<table border=\"1\" class=\"dataframe\">\n",
              "  <thead>\n",
              "    <tr style=\"text-align: right;\">\n",
              "      <th></th>\n",
              "      <th>rewire_id</th>\n",
              "      <th>text</th>\n",
              "      <th>label_sexist</th>\n",
              "      <th>label_category</th>\n",
              "      <th>label_vector</th>\n",
              "    </tr>\n",
              "  </thead>\n",
              "  <tbody>\n",
              "    <tr>\n",
              "      <th>0</th>\n",
              "      <td>sexism2022_english-10142</td>\n",
              "      <td>just the inside of your wallet: cash, bank car...</td>\n",
              "      <td>sexist</td>\n",
              "      <td>2. derogation</td>\n",
              "      <td>2.3 dehumanising attacks &amp; overt sexual object...</td>\n",
              "    </tr>\n",
              "    <tr>\n",
              "      <th>1</th>\n",
              "      <td>sexism2022_english-760</td>\n",
              "      <td>They get the initial chance because they are a...</td>\n",
              "      <td>sexist</td>\n",
              "      <td>2. derogation</td>\n",
              "      <td>2.1 descriptive attacks</td>\n",
              "    </tr>\n",
              "    <tr>\n",
              "      <th>2</th>\n",
              "      <td>sexism2022_english-1108</td>\n",
              "      <td>ugly chicks A pussy is a pussy.</td>\n",
              "      <td>sexist</td>\n",
              "      <td>2. derogation</td>\n",
              "      <td>2.3 dehumanising attacks &amp; overt sexual object...</td>\n",
              "    </tr>\n",
              "    <tr>\n",
              "      <th>3</th>\n",
              "      <td>sexism2022_english-10099</td>\n",
              "      <td>fuck her off with a nine mm this is what you g...</td>\n",
              "      <td>sexist</td>\n",
              "      <td>1. threats, plans to harm and incitement</td>\n",
              "      <td>1.2 incitement and encouragement of harm</td>\n",
              "    </tr>\n",
              "    <tr>\n",
              "      <th>4</th>\n",
              "      <td>sexism2022_english-10014</td>\n",
              "      <td>How about I talk shit to an idiot like you? Ar...</td>\n",
              "      <td>sexist</td>\n",
              "      <td>3. animosity</td>\n",
              "      <td>3.1 casual use of gendered slurs, profanities,...</td>\n",
              "    </tr>\n",
              "  </tbody>\n",
              "</table>\n",
              "</div>"
            ],
            "text/plain": [
              "                  rewire_id  \\\n",
              "0  sexism2022_english-10142   \n",
              "1    sexism2022_english-760   \n",
              "2   sexism2022_english-1108   \n",
              "3  sexism2022_english-10099   \n",
              "4  sexism2022_english-10014   \n",
              "\n",
              "                                                text label_sexist  \\\n",
              "0  just the inside of your wallet: cash, bank car...       sexist   \n",
              "1  They get the initial chance because they are a...       sexist   \n",
              "2                    ugly chicks A pussy is a pussy.       sexist   \n",
              "3  fuck her off with a nine mm this is what you g...       sexist   \n",
              "4  How about I talk shit to an idiot like you? Ar...       sexist   \n",
              "\n",
              "                             label_category  \\\n",
              "0                             2. derogation   \n",
              "1                             2. derogation   \n",
              "2                             2. derogation   \n",
              "3  1. threats, plans to harm and incitement   \n",
              "4                              3. animosity   \n",
              "\n",
              "                                        label_vector  \n",
              "0  2.3 dehumanising attacks & overt sexual object...  \n",
              "1                            2.1 descriptive attacks  \n",
              "2  2.3 dehumanising attacks & overt sexual object...  \n",
              "3           1.2 incitement and encouragement of harm  \n",
              "4  3.1 casual use of gendered slurs, profanities,...  "
            ]
          },
          "execution_count": 15,
          "metadata": {},
          "output_type": "execute_result"
        }
      ],
      "source": [
        "df = pd.read_csv(\"C:/Users/mufdu/Documents/Deep-Learning/SemEval-Task10/data/sexist_data.csv\")\n",
        "df.head(5)"
      ]
    },
    {
      "cell_type": "code",
      "execution_count": 16,
      "metadata": {
        "colab": {
          "base_uri": "https://localhost:8080/",
          "height": 392
        },
        "id": "_GEdVaX7XMJ6",
        "outputId": "b07bf837-6156-4610-99bc-3ac916a676f5"
      },
      "outputs": [
        {
          "name": "stderr",
          "output_type": "stream",
          "text": [
            "C:\\Users\\mufdu\\AppData\\Local\\Temp\\ipykernel_24080\\2778733454.py:3: FutureWarning: The default value of regex will change from True to False in a future version.\n",
            "  df['text']=df['text'].str.replace('[(#@&!?)]','')\n"
          ]
        },
        {
          "data": {
            "text/html": [
              "<div>\n",
              "<style scoped>\n",
              "    .dataframe tbody tr th:only-of-type {\n",
              "        vertical-align: middle;\n",
              "    }\n",
              "\n",
              "    .dataframe tbody tr th {\n",
              "        vertical-align: top;\n",
              "    }\n",
              "\n",
              "    .dataframe thead th {\n",
              "        text-align: right;\n",
              "    }\n",
              "</style>\n",
              "<table border=\"1\" class=\"dataframe\">\n",
              "  <thead>\n",
              "    <tr style=\"text-align: right;\">\n",
              "      <th></th>\n",
              "      <th>rewire_id</th>\n",
              "      <th>text</th>\n",
              "      <th>label_sexist</th>\n",
              "      <th>label_category</th>\n",
              "      <th>label_vector</th>\n",
              "    </tr>\n",
              "  </thead>\n",
              "  <tbody>\n",
              "    <tr>\n",
              "      <th>0</th>\n",
              "      <td>sexism2022_english-10142</td>\n",
              "      <td>just the inside of your wallet: cash, bank car...</td>\n",
              "      <td>sexist</td>\n",
              "      <td>2. derogation</td>\n",
              "      <td>2.3 dehumanising attacks &amp; overt sexual object...</td>\n",
              "    </tr>\n",
              "    <tr>\n",
              "      <th>1</th>\n",
              "      <td>sexism2022_english-760</td>\n",
              "      <td>They get the initial chance because they are a...</td>\n",
              "      <td>sexist</td>\n",
              "      <td>2. derogation</td>\n",
              "      <td>2.1 descriptive attacks</td>\n",
              "    </tr>\n",
              "    <tr>\n",
              "      <th>2</th>\n",
              "      <td>sexism2022_english-1108</td>\n",
              "      <td>ugly chicks A pussy is a pussy.</td>\n",
              "      <td>sexist</td>\n",
              "      <td>2. derogation</td>\n",
              "      <td>2.3 dehumanising attacks &amp; overt sexual object...</td>\n",
              "    </tr>\n",
              "    <tr>\n",
              "      <th>3</th>\n",
              "      <td>sexism2022_english-10099</td>\n",
              "      <td>fuck her off with a nine mm this is what you g...</td>\n",
              "      <td>sexist</td>\n",
              "      <td>1. threats, plans to harm and incitement</td>\n",
              "      <td>1.2 incitement and encouragement of harm</td>\n",
              "    </tr>\n",
              "    <tr>\n",
              "      <th>4</th>\n",
              "      <td>sexism2022_english-10014</td>\n",
              "      <td>How about I talk shit to an idiot like you Are...</td>\n",
              "      <td>sexist</td>\n",
              "      <td>3. animosity</td>\n",
              "      <td>3.1 casual use of gendered slurs, profanities,...</td>\n",
              "    </tr>\n",
              "  </tbody>\n",
              "</table>\n",
              "</div>"
            ],
            "text/plain": [
              "                  rewire_id  \\\n",
              "0  sexism2022_english-10142   \n",
              "1    sexism2022_english-760   \n",
              "2   sexism2022_english-1108   \n",
              "3  sexism2022_english-10099   \n",
              "4  sexism2022_english-10014   \n",
              "\n",
              "                                                text label_sexist  \\\n",
              "0  just the inside of your wallet: cash, bank car...       sexist   \n",
              "1  They get the initial chance because they are a...       sexist   \n",
              "2                    ugly chicks A pussy is a pussy.       sexist   \n",
              "3  fuck her off with a nine mm this is what you g...       sexist   \n",
              "4  How about I talk shit to an idiot like you Are...       sexist   \n",
              "\n",
              "                             label_category  \\\n",
              "0                             2. derogation   \n",
              "1                             2. derogation   \n",
              "2                             2. derogation   \n",
              "3  1. threats, plans to harm and incitement   \n",
              "4                              3. animosity   \n",
              "\n",
              "                                        label_vector  \n",
              "0  2.3 dehumanising attacks & overt sexual object...  \n",
              "1                            2.1 descriptive attacks  \n",
              "2  2.3 dehumanising attacks & overt sexual object...  \n",
              "3           1.2 incitement and encouragement of harm  \n",
              "4  3.1 casual use of gendered slurs, profanities,...  "
            ]
          },
          "execution_count": 16,
          "metadata": {},
          "output_type": "execute_result"
        }
      ],
      "source": [
        "####df['text'] = df['text'].str.replace(r'[^\\w\\s]+', '')\n",
        "\n",
        "df['text']=df['text'].str.replace('[(#@&!?)]','')\n",
        "\n",
        "df.head(5)"
      ]
    },
    {
      "cell_type": "code",
      "execution_count": 17,
      "metadata": {},
      "outputs": [],
      "source": [
        "import contractions\n",
        "\n",
        "for index, row in df.iterrows():\n",
        "  row['text'] = contractions.fix(row['text'])"
      ]
    },
    {
      "cell_type": "code",
      "execution_count": 18,
      "metadata": {},
      "outputs": [
        {
          "name": "stderr",
          "output_type": "stream",
          "text": [
            "C:\\Users\\mufdu\\AppData\\Local\\Temp\\ipykernel_24080\\2779130553.py:1: FutureWarning: The default value of regex will change from True to False in a future version.\n",
            "  df['text'] = df['text'].str.replace(r'[^\\w\\s]+', '')\n"
          ]
        },
        {
          "data": {
            "text/html": [
              "<div>\n",
              "<style scoped>\n",
              "    .dataframe tbody tr th:only-of-type {\n",
              "        vertical-align: middle;\n",
              "    }\n",
              "\n",
              "    .dataframe tbody tr th {\n",
              "        vertical-align: top;\n",
              "    }\n",
              "\n",
              "    .dataframe thead th {\n",
              "        text-align: right;\n",
              "    }\n",
              "</style>\n",
              "<table border=\"1\" class=\"dataframe\">\n",
              "  <thead>\n",
              "    <tr style=\"text-align: right;\">\n",
              "      <th></th>\n",
              "      <th>rewire_id</th>\n",
              "      <th>text</th>\n",
              "      <th>label_sexist</th>\n",
              "      <th>label_category</th>\n",
              "      <th>label_vector</th>\n",
              "    </tr>\n",
              "  </thead>\n",
              "  <tbody>\n",
              "    <tr>\n",
              "      <th>0</th>\n",
              "      <td>sexism2022_english-10142</td>\n",
              "      <td>just the inside of your wallet cash bank cards...</td>\n",
              "      <td>sexist</td>\n",
              "      <td>2. derogation</td>\n",
              "      <td>2.3 dehumanising attacks &amp; overt sexual object...</td>\n",
              "    </tr>\n",
              "    <tr>\n",
              "      <th>1</th>\n",
              "      <td>sexism2022_english-760</td>\n",
              "      <td>They get the initial chance because they are a...</td>\n",
              "      <td>sexist</td>\n",
              "      <td>2. derogation</td>\n",
              "      <td>2.1 descriptive attacks</td>\n",
              "    </tr>\n",
              "    <tr>\n",
              "      <th>2</th>\n",
              "      <td>sexism2022_english-1108</td>\n",
              "      <td>ugly chicks A pussy is a pussy</td>\n",
              "      <td>sexist</td>\n",
              "      <td>2. derogation</td>\n",
              "      <td>2.3 dehumanising attacks &amp; overt sexual object...</td>\n",
              "    </tr>\n",
              "    <tr>\n",
              "      <th>3</th>\n",
              "      <td>sexism2022_english-10099</td>\n",
              "      <td>fuck her off with a nine mm this is what you g...</td>\n",
              "      <td>sexist</td>\n",
              "      <td>1. threats, plans to harm and incitement</td>\n",
              "      <td>1.2 incitement and encouragement of harm</td>\n",
              "    </tr>\n",
              "    <tr>\n",
              "      <th>4</th>\n",
              "      <td>sexism2022_english-10014</td>\n",
              "      <td>How about I talk shit to an idiot like you Are...</td>\n",
              "      <td>sexist</td>\n",
              "      <td>3. animosity</td>\n",
              "      <td>3.1 casual use of gendered slurs, profanities,...</td>\n",
              "    </tr>\n",
              "  </tbody>\n",
              "</table>\n",
              "</div>"
            ],
            "text/plain": [
              "                  rewire_id  \\\n",
              "0  sexism2022_english-10142   \n",
              "1    sexism2022_english-760   \n",
              "2   sexism2022_english-1108   \n",
              "3  sexism2022_english-10099   \n",
              "4  sexism2022_english-10014   \n",
              "\n",
              "                                                text label_sexist  \\\n",
              "0  just the inside of your wallet cash bank cards...       sexist   \n",
              "1  They get the initial chance because they are a...       sexist   \n",
              "2                     ugly chicks A pussy is a pussy       sexist   \n",
              "3  fuck her off with a nine mm this is what you g...       sexist   \n",
              "4  How about I talk shit to an idiot like you Are...       sexist   \n",
              "\n",
              "                             label_category  \\\n",
              "0                             2. derogation   \n",
              "1                             2. derogation   \n",
              "2                             2. derogation   \n",
              "3  1. threats, plans to harm and incitement   \n",
              "4                              3. animosity   \n",
              "\n",
              "                                        label_vector  \n",
              "0  2.3 dehumanising attacks & overt sexual object...  \n",
              "1                            2.1 descriptive attacks  \n",
              "2  2.3 dehumanising attacks & overt sexual object...  \n",
              "3           1.2 incitement and encouragement of harm  \n",
              "4  3.1 casual use of gendered slurs, profanities,...  "
            ]
          },
          "execution_count": 18,
          "metadata": {},
          "output_type": "execute_result"
        }
      ],
      "source": [
        "df['text'] = df['text'].str.replace(r'[^\\w\\s]+', '')\n",
        "\n",
        "df.head(5)"
      ]
    },
    {
      "cell_type": "code",
      "execution_count": 19,
      "metadata": {
        "colab": {
          "base_uri": "https://localhost:8080/",
          "height": 337
        },
        "id": "0LUwqdFqXh1g",
        "outputId": "93d8b0c4-d895-43c0-8a4c-11493063357b"
      },
      "outputs": [
        {
          "data": {
            "text/html": [
              "<div>\n",
              "<style scoped>\n",
              "    .dataframe tbody tr th:only-of-type {\n",
              "        vertical-align: middle;\n",
              "    }\n",
              "\n",
              "    .dataframe tbody tr th {\n",
              "        vertical-align: top;\n",
              "    }\n",
              "\n",
              "    .dataframe thead th {\n",
              "        text-align: right;\n",
              "    }\n",
              "</style>\n",
              "<table border=\"1\" class=\"dataframe\">\n",
              "  <thead>\n",
              "    <tr style=\"text-align: right;\">\n",
              "      <th></th>\n",
              "      <th>rewire_id</th>\n",
              "      <th>text</th>\n",
              "      <th>label_sexist</th>\n",
              "      <th>label_category</th>\n",
              "      <th>label_vector</th>\n",
              "    </tr>\n",
              "  </thead>\n",
              "  <tbody>\n",
              "    <tr>\n",
              "      <th>0</th>\n",
              "      <td>sexism2022_english-10142</td>\n",
              "      <td>just the inside of your wallet cash bank cards...</td>\n",
              "      <td>sexist</td>\n",
              "      <td>2. derogation</td>\n",
              "      <td>2.3 dehumanising attacks &amp; overt sexual object...</td>\n",
              "    </tr>\n",
              "    <tr>\n",
              "      <th>1</th>\n",
              "      <td>sexism2022_english-760</td>\n",
              "      <td>they get the initial chance because they are a...</td>\n",
              "      <td>sexist</td>\n",
              "      <td>2. derogation</td>\n",
              "      <td>2.1 descriptive attacks</td>\n",
              "    </tr>\n",
              "    <tr>\n",
              "      <th>2</th>\n",
              "      <td>sexism2022_english-1108</td>\n",
              "      <td>ugly chicks a pussy is a pussy</td>\n",
              "      <td>sexist</td>\n",
              "      <td>2. derogation</td>\n",
              "      <td>2.3 dehumanising attacks &amp; overt sexual object...</td>\n",
              "    </tr>\n",
              "    <tr>\n",
              "      <th>3</th>\n",
              "      <td>sexism2022_english-10099</td>\n",
              "      <td>fuck her off with a nine mm this is what you g...</td>\n",
              "      <td>sexist</td>\n",
              "      <td>1. threats, plans to harm and incitement</td>\n",
              "      <td>1.2 incitement and encouragement of harm</td>\n",
              "    </tr>\n",
              "    <tr>\n",
              "      <th>4</th>\n",
              "      <td>sexism2022_english-10014</td>\n",
              "      <td>how about i talk shit to an idiot like you are...</td>\n",
              "      <td>sexist</td>\n",
              "      <td>3. animosity</td>\n",
              "      <td>3.1 casual use of gendered slurs, profanities,...</td>\n",
              "    </tr>\n",
              "  </tbody>\n",
              "</table>\n",
              "</div>"
            ],
            "text/plain": [
              "                  rewire_id  \\\n",
              "0  sexism2022_english-10142   \n",
              "1    sexism2022_english-760   \n",
              "2   sexism2022_english-1108   \n",
              "3  sexism2022_english-10099   \n",
              "4  sexism2022_english-10014   \n",
              "\n",
              "                                                text label_sexist  \\\n",
              "0  just the inside of your wallet cash bank cards...       sexist   \n",
              "1  they get the initial chance because they are a...       sexist   \n",
              "2                     ugly chicks a pussy is a pussy       sexist   \n",
              "3  fuck her off with a nine mm this is what you g...       sexist   \n",
              "4  how about i talk shit to an idiot like you are...       sexist   \n",
              "\n",
              "                             label_category  \\\n",
              "0                             2. derogation   \n",
              "1                             2. derogation   \n",
              "2                             2. derogation   \n",
              "3  1. threats, plans to harm and incitement   \n",
              "4                              3. animosity   \n",
              "\n",
              "                                        label_vector  \n",
              "0  2.3 dehumanising attacks & overt sexual object...  \n",
              "1                            2.1 descriptive attacks  \n",
              "2  2.3 dehumanising attacks & overt sexual object...  \n",
              "3           1.2 incitement and encouragement of harm  \n",
              "4  3.1 casual use of gendered slurs, profanities,...  "
            ]
          },
          "execution_count": 19,
          "metadata": {},
          "output_type": "execute_result"
        }
      ],
      "source": [
        "df[\"text\"] = df[\"text\"].str.replace(\"URL\",\"\")\n",
        "df[\"text\"] = df[\"text\"].str.replace(\"USER\",\"\")\n",
        "df[\"text\"] = df[\"text\"].str.lower()\n",
        "df.head(5)"
      ]
    },
    {
      "cell_type": "code",
      "execution_count": 20,
      "metadata": {
        "colab": {
          "base_uri": "https://localhost:8080/",
          "height": 641
        },
        "id": "lBni2QgSXvvK",
        "outputId": "4be7a0b1-1aa8-47de-b6a9-b064fa9cd773"
      },
      "outputs": [
        {
          "data": {
            "text/html": [
              "<div>\n",
              "<style scoped>\n",
              "    .dataframe tbody tr th:only-of-type {\n",
              "        vertical-align: middle;\n",
              "    }\n",
              "\n",
              "    .dataframe tbody tr th {\n",
              "        vertical-align: top;\n",
              "    }\n",
              "\n",
              "    .dataframe thead th {\n",
              "        text-align: right;\n",
              "    }\n",
              "</style>\n",
              "<table border=\"1\" class=\"dataframe\">\n",
              "  <thead>\n",
              "    <tr style=\"text-align: right;\">\n",
              "      <th></th>\n",
              "      <th>rewire_id</th>\n",
              "      <th>text</th>\n",
              "      <th>label_sexist</th>\n",
              "      <th>label_category</th>\n",
              "      <th>label_vector</th>\n",
              "    </tr>\n",
              "  </thead>\n",
              "  <tbody>\n",
              "    <tr>\n",
              "      <th>0</th>\n",
              "      <td>sexism2022_english-10142</td>\n",
              "      <td>just the inside of your wallet cash bank cards...</td>\n",
              "      <td>sexist</td>\n",
              "      <td>2. derogation</td>\n",
              "      <td>2.3 dehumanising attacks &amp; overt sexual object...</td>\n",
              "    </tr>\n",
              "    <tr>\n",
              "      <th>1</th>\n",
              "      <td>sexism2022_english-760</td>\n",
              "      <td>they get the initial chance because they are a...</td>\n",
              "      <td>sexist</td>\n",
              "      <td>2. derogation</td>\n",
              "      <td>2.1 descriptive attacks</td>\n",
              "    </tr>\n",
              "    <tr>\n",
              "      <th>2</th>\n",
              "      <td>sexism2022_english-1108</td>\n",
              "      <td>ugly chicks a pussy is a pussy</td>\n",
              "      <td>sexist</td>\n",
              "      <td>2. derogation</td>\n",
              "      <td>2.3 dehumanising attacks &amp; overt sexual object...</td>\n",
              "    </tr>\n",
              "    <tr>\n",
              "      <th>3</th>\n",
              "      <td>sexism2022_english-10099</td>\n",
              "      <td>fuck her off with a nine mm this is what you g...</td>\n",
              "      <td>sexist</td>\n",
              "      <td>1. threats, plans to harm and incitement</td>\n",
              "      <td>1.2 incitement and encouragement of harm</td>\n",
              "    </tr>\n",
              "    <tr>\n",
              "      <th>4</th>\n",
              "      <td>sexism2022_english-10014</td>\n",
              "      <td>how about i talk shit to an idiot like you are...</td>\n",
              "      <td>sexist</td>\n",
              "      <td>3. animosity</td>\n",
              "      <td>3.1 casual use of gendered slurs, profanities,...</td>\n",
              "    </tr>\n",
              "    <tr>\n",
              "      <th>...</th>\n",
              "      <td>...</td>\n",
              "      <td>...</td>\n",
              "      <td>...</td>\n",
              "      <td>...</td>\n",
              "      <td>...</td>\n",
              "    </tr>\n",
              "    <tr>\n",
              "      <th>6743</th>\n",
              "      <td>sexism2022_english-19317</td>\n",
              "      <td>another democrat with signal glassesthere is n...</td>\n",
              "      <td>sexist</td>\n",
              "      <td>2. derogation</td>\n",
              "      <td>2.1 descriptive attacks</td>\n",
              "    </tr>\n",
              "    <tr>\n",
              "      <th>6744</th>\n",
              "      <td>sexism2022_english-15667</td>\n",
              "      <td>that is what we do</td>\n",
              "      <td>sexist</td>\n",
              "      <td>3. animosity</td>\n",
              "      <td>3.1 casual use of gendered slurs, profanities,...</td>\n",
              "    </tr>\n",
              "    <tr>\n",
              "      <th>6745</th>\n",
              "      <td>sexism2022_english-1400</td>\n",
              "      <td>never forget it is always the mans fault never...</td>\n",
              "      <td>sexist</td>\n",
              "      <td>4. prejudiced discussions</td>\n",
              "      <td>4.2 supporting systemic discrimination against...</td>\n",
              "    </tr>\n",
              "    <tr>\n",
              "      <th>6746</th>\n",
              "      <td>sexism2022_english-4515</td>\n",
              "      <td>it is the guys who love these instagram sluts ...</td>\n",
              "      <td>sexist</td>\n",
              "      <td>2. derogation</td>\n",
              "      <td>2.2 aggressive and emotive attacks</td>\n",
              "    </tr>\n",
              "    <tr>\n",
              "      <th>6747</th>\n",
              "      <td>sexism2022_english-14185</td>\n",
              "      <td>complexes like the good chicks that go after t...</td>\n",
              "      <td>sexist</td>\n",
              "      <td>2. derogation</td>\n",
              "      <td>2.1 descriptive attacks</td>\n",
              "    </tr>\n",
              "  </tbody>\n",
              "</table>\n",
              "<p>6748 rows × 5 columns</p>\n",
              "</div>"
            ],
            "text/plain": [
              "                     rewire_id  \\\n",
              "0     sexism2022_english-10142   \n",
              "1       sexism2022_english-760   \n",
              "2      sexism2022_english-1108   \n",
              "3     sexism2022_english-10099   \n",
              "4     sexism2022_english-10014   \n",
              "...                        ...   \n",
              "6743  sexism2022_english-19317   \n",
              "6744  sexism2022_english-15667   \n",
              "6745   sexism2022_english-1400   \n",
              "6746   sexism2022_english-4515   \n",
              "6747  sexism2022_english-14185   \n",
              "\n",
              "                                                   text label_sexist  \\\n",
              "0     just the inside of your wallet cash bank cards...       sexist   \n",
              "1     they get the initial chance because they are a...       sexist   \n",
              "2                        ugly chicks a pussy is a pussy       sexist   \n",
              "3     fuck her off with a nine mm this is what you g...       sexist   \n",
              "4     how about i talk shit to an idiot like you are...       sexist   \n",
              "...                                                 ...          ...   \n",
              "6743  another democrat with signal glassesthere is n...       sexist   \n",
              "6744                                that is what we do        sexist   \n",
              "6745  never forget it is always the mans fault never...       sexist   \n",
              "6746  it is the guys who love these instagram sluts ...       sexist   \n",
              "6747  complexes like the good chicks that go after t...       sexist   \n",
              "\n",
              "                                label_category  \\\n",
              "0                                2. derogation   \n",
              "1                                2. derogation   \n",
              "2                                2. derogation   \n",
              "3     1. threats, plans to harm and incitement   \n",
              "4                                 3. animosity   \n",
              "...                                        ...   \n",
              "6743                             2. derogation   \n",
              "6744                              3. animosity   \n",
              "6745                 4. prejudiced discussions   \n",
              "6746                             2. derogation   \n",
              "6747                             2. derogation   \n",
              "\n",
              "                                           label_vector  \n",
              "0     2.3 dehumanising attacks & overt sexual object...  \n",
              "1                               2.1 descriptive attacks  \n",
              "2     2.3 dehumanising attacks & overt sexual object...  \n",
              "3              1.2 incitement and encouragement of harm  \n",
              "4     3.1 casual use of gendered slurs, profanities,...  \n",
              "...                                                 ...  \n",
              "6743                            2.1 descriptive attacks  \n",
              "6744  3.1 casual use of gendered slurs, profanities,...  \n",
              "6745  4.2 supporting systemic discrimination against...  \n",
              "6746                 2.2 aggressive and emotive attacks  \n",
              "6747                            2.1 descriptive attacks  \n",
              "\n",
              "[6748 rows x 5 columns]"
            ]
          },
          "execution_count": 20,
          "metadata": {},
          "output_type": "execute_result"
        }
      ],
      "source": [
        "df.astype(str).apply(lambda x: x.str.encode('ascii', 'ignore').str.decode('ascii'))"
      ]
    },
    {
      "cell_type": "code",
      "execution_count": 21,
      "metadata": {
        "colab": {
          "base_uri": "https://localhost:8080/",
          "height": 438
        },
        "id": "lULOTw1OYEci",
        "outputId": "64655713-99ba-4998-978a-44c9efe32915"
      },
      "outputs": [
        {
          "data": {
            "text/html": [
              "<div>\n",
              "<style scoped>\n",
              "    .dataframe tbody tr th:only-of-type {\n",
              "        vertical-align: middle;\n",
              "    }\n",
              "\n",
              "    .dataframe tbody tr th {\n",
              "        vertical-align: top;\n",
              "    }\n",
              "\n",
              "    .dataframe thead tr th {\n",
              "        text-align: left;\n",
              "    }\n",
              "\n",
              "    .dataframe thead tr:last-of-type th {\n",
              "        text-align: right;\n",
              "    }\n",
              "</style>\n",
              "<table border=\"1\" class=\"dataframe\">\n",
              "  <thead>\n",
              "    <tr>\n",
              "      <th></th>\n",
              "      <th colspan=\"4\" halign=\"left\">rewire_id</th>\n",
              "      <th colspan=\"4\" halign=\"left\">text</th>\n",
              "      <th colspan=\"4\" halign=\"left\">label_sexist</th>\n",
              "      <th colspan=\"4\" halign=\"left\">label_vector</th>\n",
              "    </tr>\n",
              "    <tr>\n",
              "      <th></th>\n",
              "      <th>count</th>\n",
              "      <th>unique</th>\n",
              "      <th>top</th>\n",
              "      <th>freq</th>\n",
              "      <th>count</th>\n",
              "      <th>unique</th>\n",
              "      <th>top</th>\n",
              "      <th>freq</th>\n",
              "      <th>count</th>\n",
              "      <th>unique</th>\n",
              "      <th>top</th>\n",
              "      <th>freq</th>\n",
              "      <th>count</th>\n",
              "      <th>unique</th>\n",
              "      <th>top</th>\n",
              "      <th>freq</th>\n",
              "    </tr>\n",
              "    <tr>\n",
              "      <th>label_category</th>\n",
              "      <th></th>\n",
              "      <th></th>\n",
              "      <th></th>\n",
              "      <th></th>\n",
              "      <th></th>\n",
              "      <th></th>\n",
              "      <th></th>\n",
              "      <th></th>\n",
              "      <th></th>\n",
              "      <th></th>\n",
              "      <th></th>\n",
              "      <th></th>\n",
              "      <th></th>\n",
              "      <th></th>\n",
              "      <th></th>\n",
              "      <th></th>\n",
              "    </tr>\n",
              "  </thead>\n",
              "  <tbody>\n",
              "    <tr>\n",
              "      <th>1. threats, plans to harm and incitement</th>\n",
              "      <td>618</td>\n",
              "      <td>310</td>\n",
              "      <td>sexism2022_english-10099</td>\n",
              "      <td>2</td>\n",
              "      <td>618</td>\n",
              "      <td>612</td>\n",
              "      <td>lock her up</td>\n",
              "      <td>2</td>\n",
              "      <td>618</td>\n",
              "      <td>1</td>\n",
              "      <td>sexist</td>\n",
              "      <td>618</td>\n",
              "      <td>618</td>\n",
              "      <td>2</td>\n",
              "      <td>1.2 incitement and encouragement of harm</td>\n",
              "      <td>506</td>\n",
              "    </tr>\n",
              "    <tr>\n",
              "      <th>2. derogation</th>\n",
              "      <td>3154</td>\n",
              "      <td>1590</td>\n",
              "      <td>sexism2022_english-10142</td>\n",
              "      <td>2</td>\n",
              "      <td>3154</td>\n",
              "      <td>3135</td>\n",
              "      <td>women are evil</td>\n",
              "      <td>2</td>\n",
              "      <td>3154</td>\n",
              "      <td>1</td>\n",
              "      <td>sexist</td>\n",
              "      <td>3154</td>\n",
              "      <td>3154</td>\n",
              "      <td>3</td>\n",
              "      <td>2.1 descriptive attacks</td>\n",
              "      <td>1423</td>\n",
              "    </tr>\n",
              "    <tr>\n",
              "      <th>3. animosity</th>\n",
              "      <td>2317</td>\n",
              "      <td>1165</td>\n",
              "      <td>sexism2022_english-10014</td>\n",
              "      <td>2</td>\n",
              "      <td>2317</td>\n",
              "      <td>2301</td>\n",
              "      <td>can we get a black woman to name their child b...</td>\n",
              "      <td>2</td>\n",
              "      <td>2317</td>\n",
              "      <td>1</td>\n",
              "      <td>sexist</td>\n",
              "      <td>2317</td>\n",
              "      <td>2317</td>\n",
              "      <td>4</td>\n",
              "      <td>3.1 casual use of gendered slurs, profanities,...</td>\n",
              "      <td>1268</td>\n",
              "    </tr>\n",
              "    <tr>\n",
              "      <th>4. prejudiced discussions</th>\n",
              "      <td>659</td>\n",
              "      <td>333</td>\n",
              "      <td>sexism2022_english-10606</td>\n",
              "      <td>2</td>\n",
              "      <td>659</td>\n",
              "      <td>656</td>\n",
              "      <td>well i think i speak for all men when i say i ...</td>\n",
              "      <td>2</td>\n",
              "      <td>659</td>\n",
              "      <td>1</td>\n",
              "      <td>sexist</td>\n",
              "      <td>659</td>\n",
              "      <td>659</td>\n",
              "      <td>2</td>\n",
              "      <td>4.2 supporting systemic discrimination against...</td>\n",
              "      <td>510</td>\n",
              "    </tr>\n",
              "  </tbody>\n",
              "</table>\n",
              "</div>"
            ],
            "text/plain": [
              "                                         rewire_id         \\\n",
              "                                             count unique   \n",
              "label_category                                              \n",
              "1. threats, plans to harm and incitement       618    310   \n",
              "2. derogation                                 3154   1590   \n",
              "3. animosity                                  2317   1165   \n",
              "4. prejudiced discussions                      659    333   \n",
              "\n",
              "                                                                         text  \\\n",
              "                                                               top freq count   \n",
              "label_category                                                                  \n",
              "1. threats, plans to harm and incitement  sexism2022_english-10099    2   618   \n",
              "2. derogation                             sexism2022_english-10142    2  3154   \n",
              "3. animosity                              sexism2022_english-10014    2  2317   \n",
              "4. prejudiced discussions                 sexism2022_english-10606    2   659   \n",
              "\n",
              "                                                 \\\n",
              "                                         unique   \n",
              "label_category                                    \n",
              "1. threats, plans to harm and incitement    612   \n",
              "2. derogation                              3135   \n",
              "3. animosity                               2301   \n",
              "4. prejudiced discussions                   656   \n",
              "\n",
              "                                                                                             \\\n",
              "                                                                                        top   \n",
              "label_category                                                                                \n",
              "1. threats, plans to harm and incitement                                        lock her up   \n",
              "2. derogation                                                                women are evil   \n",
              "3. animosity                              can we get a black woman to name their child b...   \n",
              "4. prejudiced discussions                 well i think i speak for all men when i say i ...   \n",
              "\n",
              "                                              label_sexist                 \\\n",
              "                                         freq        count unique     top   \n",
              "label_category                                                              \n",
              "1. threats, plans to harm and incitement    2          618      1  sexist   \n",
              "2. derogation                               2         3154      1  sexist   \n",
              "3. animosity                                2         2317      1  sexist   \n",
              "4. prejudiced discussions                   2          659      1  sexist   \n",
              "\n",
              "                                               label_vector         \\\n",
              "                                          freq        count unique   \n",
              "label_category                                                       \n",
              "1. threats, plans to harm and incitement   618          618      2   \n",
              "2. derogation                             3154         3154      3   \n",
              "3. animosity                              2317         2317      4   \n",
              "4. prejudiced discussions                  659          659      2   \n",
              "\n",
              "                                                                                             \\\n",
              "                                                                                        top   \n",
              "label_category                                                                                \n",
              "1. threats, plans to harm and incitement           1.2 incitement and encouragement of harm   \n",
              "2. derogation                                                       2.1 descriptive attacks   \n",
              "3. animosity                              3.1 casual use of gendered slurs, profanities,...   \n",
              "4. prejudiced discussions                 4.2 supporting systemic discrimination against...   \n",
              "\n",
              "                                                \n",
              "                                          freq  \n",
              "label_category                                  \n",
              "1. threats, plans to harm and incitement   506  \n",
              "2. derogation                             1423  \n",
              "3. animosity                              1268  \n",
              "4. prejudiced discussions                  510  "
            ]
          },
          "execution_count": 21,
          "metadata": {},
          "output_type": "execute_result"
        }
      ],
      "source": [
        "df.groupby('label_category').describe()"
      ]
    },
    {
      "cell_type": "code",
      "execution_count": 22,
      "metadata": {
        "colab": {
          "base_uri": "https://localhost:8080/"
        },
        "id": "A0vAjCcaep4m",
        "outputId": "85550cda-6189-4533-c200-98c088f31e8f"
      },
      "outputs": [
        {
          "data": {
            "text/plain": [
              "2. derogation                               3154\n",
              "3. animosity                                2317\n",
              "4. prejudiced discussions                    659\n",
              "1. threats, plans to harm and incitement     618\n",
              "Name: label_category, dtype: int64"
            ]
          },
          "execution_count": 22,
          "metadata": {},
          "output_type": "execute_result"
        }
      ],
      "source": [
        "df['label_category'].value_counts()"
      ]
    },
    {
      "cell_type": "code",
      "execution_count": 23,
      "metadata": {
        "colab": {
          "base_uri": "https://localhost:8080/"
        },
        "id": "VBzJ22kWYXfu",
        "outputId": "30583efb-a5c2-420d-f0ca-e29c7d4d47bb"
      },
      "outputs": [
        {
          "name": "stdout",
          "output_type": "stream",
          "text": [
            "0                                  2. derogation\n",
            "1                                  2. derogation\n",
            "2                                  2. derogation\n",
            "3       1. threats, plans to harm and incitement\n",
            "4                                   3. animosity\n",
            "                          ...                   \n",
            "6743                               2. derogation\n",
            "6744                                3. animosity\n",
            "6745                   4. prejudiced discussions\n",
            "6746                               2. derogation\n",
            "6747                               2. derogation\n",
            "Name: label_category, Length: 6748, dtype: category\n",
            "Categories (4, object): ['1. threats, plans to harm and incitement', '2. derogation', '3. animosity', '4. prejudiced discussions']\n"
          ]
        }
      ],
      "source": [
        "# change to category dtype\n",
        "df[\"label_category\"] = df[\"label_category\"].astype(\"category\")\n",
        "\n",
        "# remove category value \"L\" from \"Shirt Size\" column\n",
        "##df[\"label_category\"] = df[\"label_category\"].cat.remove_categories(\"none\")\n",
        "# display the \"Shirt Size\" column\n",
        "print(df[\"label_category\"])"
      ]
    },
    {
      "cell_type": "code",
      "execution_count": 24,
      "metadata": {
        "colab": {
          "base_uri": "https://localhost:8080/",
          "height": 531
        },
        "id": "Ur2DXzedYlii",
        "outputId": "6797e7fa-a5c5-4392-a82c-9f9ccf9b4503"
      },
      "outputs": [
        {
          "name": "stderr",
          "output_type": "stream",
          "text": [
            "c:\\Users\\mufdu\\anaconda3\\lib\\site-packages\\seaborn\\_decorators.py:36: FutureWarning: Pass the following variable as a keyword arg: x. From version 0.12, the only valid positional argument will be `data`, and passing other arguments without an explicit keyword will result in an error or misinterpretation.\n",
            "  warnings.warn(\n"
          ]
        },
        {
          "data": {
            "text/plain": [
              "<AxesSubplot:title={'center':'Train Data'}, xlabel='label_category', ylabel='count'>"
            ]
          },
          "execution_count": 24,
          "metadata": {},
          "output_type": "execute_result"
        },
        {
          "data": {
            "image/png": "[encoded data removed]",
            "text/plain": [
              "<Figure size 5000x800 with 1 Axes>"
            ]
          },
          "metadata": {},
          "output_type": "display_data"
        }
      ],
      "source": [
        "# 0 -> None\n",
        "# 1 -> threats, plans to harm and incitement\n",
        "# 2 -> derogation\n",
        "# 3 -> animosity\n",
        "# 4 -> prejudiced discussions\n",
        "import matplotlib.pyplot as plt\n",
        "import seaborn as sns\n",
        "\n",
        "plt.figure(figsize=(50,8))\n",
        "plt.subplot(1,3,1)\n",
        "plt.title('Train Data')\n",
        "sns.countplot(df.label_category)"
      ]
    },
    {
      "cell_type": "code",
      "execution_count": 25,
      "metadata": {
        "colab": {
          "base_uri": "https://localhost:8080/"
        },
        "id": "CyqxZ771YzNH",
        "outputId": "0ab01d3a-b1f4-4967-9d1f-cc1a4f6363d8"
      },
      "outputs": [
        {
          "data": {
            "text/plain": [
              "(618, 5)"
            ]
          },
          "execution_count": 25,
          "metadata": {},
          "output_type": "execute_result"
        }
      ],
      "source": [
        "df_threats= df[df['label_category']=='1. threats, plans to harm and incitement']\n",
        "df_threats.shape"
      ]
    },
    {
      "cell_type": "code",
      "execution_count": 26,
      "metadata": {
        "colab": {
          "base_uri": "https://localhost:8080/"
        },
        "id": "MQjtsXexY9M6",
        "outputId": "93009659-e3b6-4735-8e18-b945fe629044"
      },
      "outputs": [
        {
          "data": {
            "text/plain": [
              "(3154, 5)"
            ]
          },
          "execution_count": 26,
          "metadata": {},
          "output_type": "execute_result"
        }
      ],
      "source": [
        "df_derogation =df[df['label_category']=='2. derogation']\n",
        "df_derogation.shape"
      ]
    },
    {
      "cell_type": "code",
      "execution_count": 27,
      "metadata": {
        "colab": {
          "base_uri": "https://localhost:8080/"
        },
        "id": "g6coMRuUZAfP",
        "outputId": "3a7264fa-5d1c-415e-ab63-c61ee939d69d"
      },
      "outputs": [
        {
          "data": {
            "text/plain": [
              "(2317, 5)"
            ]
          },
          "execution_count": 27,
          "metadata": {},
          "output_type": "execute_result"
        }
      ],
      "source": [
        "df_animosity  =df[df['label_category']=='3. animosity']\n",
        "df_animosity.shape"
      ]
    },
    {
      "cell_type": "code",
      "execution_count": 28,
      "metadata": {
        "colab": {
          "base_uri": "https://localhost:8080/"
        },
        "id": "LaKY727wflv1",
        "outputId": "60c6b8fa-0576-4ff2-d02b-27429ca6f34c"
      },
      "outputs": [
        {
          "data": {
            "text/plain": [
              "(659, 5)"
            ]
          },
          "execution_count": 28,
          "metadata": {},
          "output_type": "execute_result"
        }
      ],
      "source": [
        "df_pre =df[df['label_category']=='4. prejudiced discussions']\n",
        "df_pre.shape"
      ]
    },
    {
      "cell_type": "code",
      "execution_count": 29,
      "metadata": {
        "colab": {
          "base_uri": "https://localhost:8080/",
          "height": 581
        },
        "id": "Hn6jYWgjm4p7",
        "outputId": "b03e3e24-48eb-4bad-eb5c-47edd98ee193"
      },
      "outputs": [
        {
          "data": {
            "text/html": [
              "<div>\n",
              "<style scoped>\n",
              "    .dataframe tbody tr th:only-of-type {\n",
              "        vertical-align: middle;\n",
              "    }\n",
              "\n",
              "    .dataframe tbody tr th {\n",
              "        vertical-align: top;\n",
              "    }\n",
              "\n",
              "    .dataframe thead th {\n",
              "        text-align: right;\n",
              "    }\n",
              "</style>\n",
              "<table border=\"1\" class=\"dataframe\">\n",
              "  <thead>\n",
              "    <tr style=\"text-align: right;\">\n",
              "      <th></th>\n",
              "      <th>rewire_id</th>\n",
              "      <th>text</th>\n",
              "      <th>label_sexist</th>\n",
              "      <th>label_category</th>\n",
              "      <th>label_vector</th>\n",
              "      <th>catt</th>\n",
              "    </tr>\n",
              "  </thead>\n",
              "  <tbody>\n",
              "    <tr>\n",
              "      <th>1748</th>\n",
              "      <td>sexism2022_english-12066</td>\n",
              "      <td>people they it is women cunts do cunt shit</td>\n",
              "      <td>sexist</td>\n",
              "      <td>2. derogation</td>\n",
              "      <td>2.2 aggressive and emotive attacks</td>\n",
              "      <td>2</td>\n",
              "    </tr>\n",
              "    <tr>\n",
              "      <th>6497</th>\n",
              "      <td>sexism2022_english-19348</td>\n",
              "      <td>layin pipe lmfao</td>\n",
              "      <td>sexist</td>\n",
              "      <td>3. animosity</td>\n",
              "      <td>3.1 casual use of gendered slurs, profanities,...</td>\n",
              "      <td>3</td>\n",
              "    </tr>\n",
              "    <tr>\n",
              "      <th>5395</th>\n",
              "      <td>sexism2022_english-10383</td>\n",
              "      <td>you forget that women spend faster than they c...</td>\n",
              "      <td>sexist</td>\n",
              "      <td>2. derogation</td>\n",
              "      <td>2.1 descriptive attacks</td>\n",
              "      <td>2</td>\n",
              "    </tr>\n",
              "    <tr>\n",
              "      <th>1546</th>\n",
              "      <td>sexism2022_english-10298</td>\n",
              "      <td>stormy stormy stormy porn producer divorces hi...</td>\n",
              "      <td>sexist</td>\n",
              "      <td>2. derogation</td>\n",
              "      <td>2.2 aggressive and emotive attacks</td>\n",
              "      <td>2</td>\n",
              "    </tr>\n",
              "    <tr>\n",
              "      <th>5764</th>\n",
              "      <td>sexism2022_english-9533</td>\n",
              "      <td>this shit is bad in so many ways young women t...</td>\n",
              "      <td>sexist</td>\n",
              "      <td>2. derogation</td>\n",
              "      <td>2.1 descriptive attacks</td>\n",
              "      <td>2</td>\n",
              "    </tr>\n",
              "    <tr>\n",
              "      <th>2827</th>\n",
              "      <td>sexism2022_english-4567</td>\n",
              "      <td>air force special operations command will soon...</td>\n",
              "      <td>sexist</td>\n",
              "      <td>3. animosity</td>\n",
              "      <td>3.4 condescending explanations or unwelcome ad...</td>\n",
              "      <td>3</td>\n",
              "    </tr>\n",
              "    <tr>\n",
              "      <th>4116</th>\n",
              "      <td>sexism2022_english-19956</td>\n",
              "      <td>while with weinstein he ended up with a bikini...</td>\n",
              "      <td>sexist</td>\n",
              "      <td>3. animosity</td>\n",
              "      <td>3.1 casual use of gendered slurs, profanities,...</td>\n",
              "      <td>3</td>\n",
              "    </tr>\n",
              "    <tr>\n",
              "      <th>1613</th>\n",
              "      <td>sexism2022_english-9132</td>\n",
              "      <td>any female can make a living just by selling t...</td>\n",
              "      <td>sexist</td>\n",
              "      <td>4. prejudiced discussions</td>\n",
              "      <td>4.2 supporting systemic discrimination against...</td>\n",
              "      <td>4</td>\n",
              "    </tr>\n",
              "    <tr>\n",
              "      <th>5222</th>\n",
              "      <td>sexism2022_english-5387</td>\n",
              "      <td>what happens with women who refuse to learn to...</td>\n",
              "      <td>sexist</td>\n",
              "      <td>3. animosity</td>\n",
              "      <td>3.2 immutable gender differences and gender st...</td>\n",
              "      <td>3</td>\n",
              "    </tr>\n",
              "    <tr>\n",
              "      <th>1460</th>\n",
              "      <td>sexism2022_english-15439</td>\n",
              "      <td>trans women will make female sports great for ...</td>\n",
              "      <td>sexist</td>\n",
              "      <td>2. derogation</td>\n",
              "      <td>2.1 descriptive attacks</td>\n",
              "      <td>2</td>\n",
              "    </tr>\n",
              "  </tbody>\n",
              "</table>\n",
              "</div>"
            ],
            "text/plain": [
              "                     rewire_id  \\\n",
              "1748  sexism2022_english-12066   \n",
              "6497  sexism2022_english-19348   \n",
              "5395  sexism2022_english-10383   \n",
              "1546  sexism2022_english-10298   \n",
              "5764   sexism2022_english-9533   \n",
              "2827   sexism2022_english-4567   \n",
              "4116  sexism2022_english-19956   \n",
              "1613   sexism2022_english-9132   \n",
              "5222   sexism2022_english-5387   \n",
              "1460  sexism2022_english-15439   \n",
              "\n",
              "                                                   text label_sexist  \\\n",
              "1748         people they it is women cunts do cunt shit       sexist   \n",
              "6497                                  layin pipe lmfao        sexist   \n",
              "5395  you forget that women spend faster than they c...       sexist   \n",
              "1546  stormy stormy stormy porn producer divorces hi...       sexist   \n",
              "5764  this shit is bad in so many ways young women t...       sexist   \n",
              "2827  air force special operations command will soon...       sexist   \n",
              "4116  while with weinstein he ended up with a bikini...       sexist   \n",
              "1613  any female can make a living just by selling t...       sexist   \n",
              "5222  what happens with women who refuse to learn to...       sexist   \n",
              "1460  trans women will make female sports great for ...       sexist   \n",
              "\n",
              "                 label_category  \\\n",
              "1748              2. derogation   \n",
              "6497               3. animosity   \n",
              "5395              2. derogation   \n",
              "1546              2. derogation   \n",
              "5764              2. derogation   \n",
              "2827               3. animosity   \n",
              "4116               3. animosity   \n",
              "1613  4. prejudiced discussions   \n",
              "5222               3. animosity   \n",
              "1460              2. derogation   \n",
              "\n",
              "                                           label_vector catt  \n",
              "1748                 2.2 aggressive and emotive attacks    2  \n",
              "6497  3.1 casual use of gendered slurs, profanities,...    3  \n",
              "5395                            2.1 descriptive attacks    2  \n",
              "1546                 2.2 aggressive and emotive attacks    2  \n",
              "5764                            2.1 descriptive attacks    2  \n",
              "2827  3.4 condescending explanations or unwelcome ad...    3  \n",
              "4116  3.1 casual use of gendered slurs, profanities,...    3  \n",
              "1613  4.2 supporting systemic discrimination against...    4  \n",
              "5222  3.2 immutable gender differences and gender st...    3  \n",
              "1460                            2.1 descriptive attacks    2  "
            ]
          },
          "execution_count": 29,
          "metadata": {},
          "output_type": "execute_result"
        }
      ],
      "source": [
        "df['catt']=df['label_category'].apply(lambda x: '1' if x=='1. threats, plans to harm and incitement' else '2' if x== '2. derogation' else '3' if x== '3. animosity' else '4' )\n",
        "df.sample(10)"
      ]
    },
    {
      "cell_type": "code",
      "execution_count": 30,
      "metadata": {
        "id": "Xe7zbyVZoMYF"
      },
      "outputs": [],
      "source": [
        "###lambda x: 'A+' if x>7 else 'A' if x>=5 and x<=7 else 'B'"
      ]
    },
    {
      "cell_type": "code",
      "execution_count": 31,
      "metadata": {
        "id": "aztIjkj4j9A_"
      },
      "outputs": [],
      "source": [
        "from sklearn.utils import resample"
      ]
    },
    {
      "cell_type": "code",
      "execution_count": 32,
      "metadata": {
        "id": "cI8HX3l0gVRJ"
      },
      "outputs": [],
      "source": [
        "\n",
        " \n",
        "# Upsample minority class\n",
        "df_derogation_upsampled = resample(df_derogation, \n",
        "                                 replace=True,     # sample with replacement\n",
        "                                 n_samples=927,    # to match majority class\n",
        "                                 random_state=123) # reproducible results\n",
        " \n",
        "df_animosity_upsampled = resample(df_animosity, \n",
        "                                 replace=True,     # sample with replacement\n",
        "                                 n_samples=835,    # to match majority class\n",
        "                                 random_state=123) # reproducible results\n",
        "\n",
        "df_pre_upsampled = resample(df_pre, \n",
        "                                 replace=True,     # sample with replacement\n",
        "                                 n_samples=710,    # to match majority class\n",
        "                                 random_state=123) # reproducible results\n",
        "\n"
      ]
    },
    {
      "cell_type": "code",
      "execution_count": 33,
      "metadata": {
        "id": "Vt3vhm-vczVu"
      },
      "outputs": [],
      "source": [
        "# Combine majority class with upsampled minority class\n",
        "df_balanced = pd.concat([df_threats, df_derogation_upsampled , df_animosity_upsampled , df_pre_upsampled])\n",
        " \n"
      ]
    },
    {
      "cell_type": "code",
      "execution_count": 34,
      "metadata": {
        "colab": {
          "base_uri": "https://localhost:8080/"
        },
        "id": "GaWtQShQdlXH",
        "outputId": "c310fe35-0a4c-45f1-a297-a71e187677f9"
      },
      "outputs": [
        {
          "data": {
            "text/plain": [
              "rewire_id                 text                                                                                                                                                                                                                                               label_sexist  label_category                            label_vector                                                   \n",
              "sexism2022_english-15733  if they were women who were raped in prison it would suck                                                                                                                                                                                          sexist        4. prejudiced discussions                 4.2 supporting systemic discrimination against women as a group    5\n",
              "sexism2022_english-11913  prioritizing women over men has been a constant rule since the dawn of human civilization there is nothing new about the idea of women and children first                                                                                          sexist        4. prejudiced discussions                 4.2 supporting systemic discrimination against women as a group    5\n",
              "sexism2022_english-7260   former bbc journalist thuto mali says that universal credit is now a womans rights issue as it is affecting her finances if she wants to open her legs and sprew a sprog that is her problem  my problem is i am not willing to finance the sprog  sexist        4. prejudiced discussions                 4.2 supporting systemic discrimination against women as a group    5\n",
              "sexism2022_english-17113  from the articles reading it seems that she was not even charged it is likely that she had a welfare check and that she was started                                                                                                                sexist        4. prejudiced discussions                 4.2 supporting systemic discrimination against women as a group    4\n",
              "sexism2022_english-16695  when she was trying to intimidate everyone was laughing but when he sold out suddenly he fainted and of course the teacher holds him even if she wants more                                                                                        sexist        4. prejudiced discussions                 4.2 supporting systemic discrimination against women as a group    4\n",
              "                                                                                                                                                                                                                                                                                                                                                                                                       ..\n",
              "sexism2022_english-16366  hahaha why did not you tell that to my little bitch face how amazingly feminine of you to talk about shit in my back little boy fear of confrontation you will never be the man your mother is                                                     sexist        3. animosity                              3.1 casual use of gendered slurs, profanities, and insults         1\n",
              "sexism2022_english-16370  nah black women always get more answers on dull than even white men their female privilege cancels their black disadvantage                                                                                                                        sexist        4. prejudiced discussions                 4.2 supporting systemic discrimination against women as a group    1\n",
              "sexism2022_english-16394  well we already had a feminist doctor killing off patients fuck you dr barton burn in hell cunt this is not surprising the government want the men dead and they will get every woman in on it that they can                                       sexist        2. derogation                             2.2 aggressive and emotive attacks                                 1\n",
              "sexism2022_english-16404  tell her she is got her head first                                                                                                                                                                                                                 sexist        3. animosity                              3.1 casual use of gendered slurs, profanities, and insults         1\n",
              "sexism2022_english-9989   she should be strung up no drop let her kick and sway until she expires unhinged crazy attemptedmurder felon                                                                                                                                       sexist        1. threats, plans to harm and incitement  1.2 incitement and encouragement of harm                           1\n",
              "Length: 2548, dtype: int64"
            ]
          },
          "execution_count": 34,
          "metadata": {},
          "output_type": "execute_result"
        }
      ],
      "source": [
        "# Display new class counts\n",
        "df_balanced.value_counts()\n",
        "# 1    576\n",
        "# 0    576\n",
        "# Name: balance, dtype: int64"
      ]
    },
    {
      "cell_type": "code",
      "execution_count": 35,
      "metadata": {
        "colab": {
          "base_uri": "https://localhost:8080/"
        },
        "id": "biy9tY7fdyEO",
        "outputId": "cf1cb720-0e25-445d-95d1-da67d4f02b73"
      },
      "outputs": [
        {
          "data": {
            "text/plain": [
              "2. derogation                               927\n",
              "3. animosity                                835\n",
              "4. prejudiced discussions                   710\n",
              "1. threats, plans to harm and incitement    618\n",
              "Name: label_category, dtype: int64"
            ]
          },
          "execution_count": 35,
          "metadata": {},
          "output_type": "execute_result"
        }
      ],
      "source": [
        "df_balanced['label_category'].value_counts()"
      ]
    },
    {
      "cell_type": "code",
      "execution_count": 36,
      "metadata": {
        "id": "8WGozij4d4s8"
      },
      "outputs": [],
      "source": [
        "df = df_balanced"
      ]
    },
    {
      "cell_type": "code",
      "execution_count": 37,
      "metadata": {
        "colab": {
          "base_uri": "https://localhost:8080/",
          "height": 586
        },
        "id": "hMKVWPnSl0OR",
        "outputId": "a4d550c8-c3e0-4e95-c171-d8531b70f569"
      },
      "outputs": [
        {
          "name": "stderr",
          "output_type": "stream",
          "text": [
            "c:\\Users\\mufdu\\anaconda3\\lib\\site-packages\\seaborn\\_decorators.py:36: FutureWarning: Pass the following variable as a keyword arg: x. From version 0.12, the only valid positional argument will be `data`, and passing other arguments without an explicit keyword will result in an error or misinterpretation.\n",
            "  warnings.warn(\n"
          ]
        },
        {
          "data": {
            "text/plain": [
              "<AxesSubplot:title={'center':'Train Data'}, xlabel='label_category', ylabel='count'>"
            ]
          },
          "execution_count": 37,
          "metadata": {},
          "output_type": "execute_result"
        },
        {
          "data": {
            "image/png": "[encoded data removed]",
            "text/plain": [
              "<Figure size 5000x800 with 1 Axes>"
            ]
          },
          "metadata": {},
          "output_type": "display_data"
        }
      ],
      "source": [
        "# 0 -> None\n",
        "# 1 -> threats, plans to harm and incitement\n",
        "# 2 -> derogation\n",
        "# 3 -> animosity\n",
        "# 4 -> prejudiced discussions\n",
        "import matplotlib.pyplot as plt\n",
        "import seaborn as sns\n",
        "\n",
        "plt.figure(figsize=(50,8))\n",
        "plt.subplot(1,3,1)\n",
        "plt.title('Train Data')\n",
        "sns.countplot(df.label_category)"
      ]
    },
    {
      "cell_type": "markdown",
      "metadata": {
        "id": "WwC95590XyxX"
      },
      "source": [
        "Copy_paste till here...\n",
        "ML Procedure after this...\n",
        "JUst check once for better..."
      ]
    },
    {
      "cell_type": "code",
      "execution_count": 38,
      "metadata": {
        "id": "cVmRDferUggt"
      },
      "outputs": [],
      "source": [
        "from sklearn.feature_extraction.text import TfidfVectorizer\n",
        "from sklearn.model_selection import train_test_split\n",
        "from sklearn.preprocessing import LabelEncoder"
      ]
    },
    {
      "cell_type": "code",
      "execution_count": 39,
      "metadata": {
        "id": "C1MgudXSUggv"
      },
      "outputs": [],
      "source": [
        "X = df.text\n",
        "tfid_vec = TfidfVectorizer().fit(X)\n",
        "X_corpus =  tfid_vec.transform(X)"
      ]
    },
    {
      "cell_type": "code",
      "execution_count": 40,
      "metadata": {
        "colab": {
          "base_uri": "https://localhost:8080/"
        },
        "id": "VaSjt8_QUggw",
        "outputId": "c453c891-97c6-402f-8dc5-279aa98ee970"
      },
      "outputs": [
        {
          "data": {
            "text/plain": [
              "(3090, 6827)"
            ]
          },
          "execution_count": 40,
          "metadata": {},
          "output_type": "execute_result"
        }
      ],
      "source": [
        "X_corpus.shape"
      ]
    },
    {
      "cell_type": "code",
      "execution_count": 41,
      "metadata": {
        "id": "TIWZLrr6Uggy"
      },
      "outputs": [],
      "source": [
        "X = df.text\n",
        "y = df.label_category\n",
        "label_encoder = LabelEncoder().fit(y)\n",
        "encoded_y = label_encoder.transform(y)"
      ]
    },
    {
      "cell_type": "code",
      "execution_count": 42,
      "metadata": {
        "colab": {
          "base_uri": "https://localhost:8080/"
        },
        "id": "X71nnxYmbZuz",
        "outputId": "20018517-28b6-4c30-ab87-6fe37f7ba098"
      },
      "outputs": [
        {
          "data": {
            "text/plain": [
              "{0, 1, 2, 3}"
            ]
          },
          "execution_count": 42,
          "metadata": {},
          "output_type": "execute_result"
        }
      ],
      "source": [
        "set(encoded_y)"
      ]
    },
    {
      "cell_type": "code",
      "execution_count": 43,
      "metadata": {
        "id": "FBrqEOjcUgg0"
      },
      "outputs": [],
      "source": [
        "from sklearn.model_selection import train_test_split\n",
        "from sklearn.metrics import confusion_matrix, accuracy_score, classification_report\n",
        "from sklearn.metrics import f1_score"
      ]
    },
    {
      "cell_type": "code",
      "execution_count": 44,
      "metadata": {
        "id": "T-g0Lv90Ugg2"
      },
      "outputs": [],
      "source": [
        "X_train, X_test, y_train, y_test = train_test_split(X_corpus, encoded_y , random_state =42)"
      ]
    },
    {
      "cell_type": "code",
      "execution_count": 45,
      "metadata": {
        "colab": {
          "base_uri": "https://localhost:8080/"
        },
        "id": "exsJzwoDUgg5",
        "outputId": "7af105cc-76f0-4995-c80b-9c4b00bf966b"
      },
      "outputs": [
        {
          "name": "stdout",
          "output_type": "stream",
          "text": [
            "(2317, 6827)\n",
            "(773, 6827)\n"
          ]
        }
      ],
      "source": [
        "print(X_train.shape)\n",
        "print(X_test.shape)"
      ]
    },
    {
      "cell_type": "markdown",
      "metadata": {
        "id": "0UI7OQDzUgg7"
      },
      "source": [
        "**LOGISTIC REGRESSION**"
      ]
    },
    {
      "cell_type": "code",
      "execution_count": 46,
      "metadata": {
        "id": "BSHGW6XcUgg-"
      },
      "outputs": [],
      "source": [
        "from sklearn.linear_model import LogisticRegression"
      ]
    },
    {
      "cell_type": "code",
      "execution_count": 47,
      "metadata": {
        "id": "EKqNbo-dUgg_"
      },
      "outputs": [],
      "source": [
        "l_model = LogisticRegression()\n",
        "l_model.fit(X_train, y_train)\n",
        "l_sentiment_yhat = l_model.predict(X_test)\n",
        "l_sentiment_accuracy = accuracy_score(y_true = y_test, y_pred = l_sentiment_yhat)\n",
        "l_sentiment_f1 = f1_score(y_true = y_test, y_pred = l_sentiment_yhat, average = 'weighted')"
      ]
    },
    {
      "cell_type": "code",
      "execution_count": 48,
      "metadata": {
        "colab": {
          "base_uri": "https://localhost:8080/"
        },
        "id": "COSiXMchUghA",
        "outputId": "760ace27-4b27-477a-fc11-c0a60ca3f1b3"
      },
      "outputs": [
        {
          "name": "stdout",
          "output_type": "stream",
          "text": [
            "The accuracy from logistic sentiment classification: 0.6623544631306598\n",
            "with f1 score: 0.6644334121054274\n",
            "              precision    recall  f1-score   support\n",
            "\n",
            "           0       0.81      0.59      0.68       177\n",
            "           1       0.56      0.69      0.62       218\n",
            "           2       0.61      0.62      0.61       193\n",
            "           3       0.76      0.75      0.76       185\n",
            "\n",
            "    accuracy                           0.66       773\n",
            "   macro avg       0.69      0.66      0.67       773\n",
            "weighted avg       0.68      0.66      0.66       773\n",
            "\n"
          ]
        }
      ],
      "source": [
        "print(f\"The accuracy from logistic sentiment classification: {l_sentiment_accuracy}\")\n",
        "print(f\"with f1 score: {l_sentiment_f1}\")\n",
        "print(classification_report(y_true = y_test, y_pred = l_sentiment_yhat ))"
      ]
    },
    {
      "cell_type": "code",
      "execution_count": 49,
      "metadata": {
        "colab": {
          "base_uri": "https://localhost:8080/",
          "height": 298
        },
        "id": "S_LYQmDiUghB",
        "outputId": "664f4e39-f048-4c8b-ba19-b40f848430cd"
      },
      "outputs": [
        {
          "data": {
            "text/plain": [
              "Text(0.5, 1.0, 'Sentiment classification')"
            ]
          },
          "execution_count": 49,
          "metadata": {},
          "output_type": "execute_result"
        },
        {
          "data": {
            "image/png": "[encoded data removed]",
            "text/plain": [
              "<Figure size 640x480 with 2 Axes>"
            ]
          },
          "metadata": {},
          "output_type": "display_data"
        }
      ],
      "source": [
        "sns.heatmap(confusion_matrix(y_true= y_test, y_pred = l_sentiment_yhat) / len(l_sentiment_yhat), \n",
        "            annot = True, cmap ='coolwarm')\n",
        "plt.title('Sentiment classification')"
      ]
    },
    {
      "cell_type": "markdown",
      "metadata": {
        "id": "pwkgbp82UghB"
      },
      "source": [
        "**Support Vector Classification SVC**"
      ]
    },
    {
      "cell_type": "code",
      "execution_count": 50,
      "metadata": {
        "id": "VMvXBZGPUghC"
      },
      "outputs": [],
      "source": [
        "from sklearn.svm import SVC"
      ]
    },
    {
      "cell_type": "code",
      "execution_count": 51,
      "metadata": {
        "id": "uNFjouCTUghD"
      },
      "outputs": [],
      "source": [
        "svm_model = SVC()\n",
        "svm_model.fit(X_train, y_train)\n",
        "svm_topic_yhat = svm_model.predict(X_test)\n",
        "svm_topic_accuracy = accuracy_score(y_true = y_test, y_pred = svm_topic_yhat )\n",
        "svm_topic_f1 = f1_score(y_true = y_test, y_pred = svm_topic_yhat, average = 'weighted')"
      ]
    },
    {
      "cell_type": "code",
      "execution_count": 52,
      "metadata": {
        "colab": {
          "base_uri": "https://localhost:8080/"
        },
        "id": "AC1AKFDRUghE",
        "outputId": "ec1f43e2-ff0b-4f34-8c0c-dc8a7959f380"
      },
      "outputs": [
        {
          "name": "stdout",
          "output_type": "stream",
          "text": [
            "The accuracy from SVM sentiment classification: 0.7166882276843467\n",
            "with f1 score: 0.7241681819030853\n",
            "              precision    recall  f1-score   support\n",
            "\n",
            "           0       0.92      0.67      0.77       177\n",
            "           1       0.56      0.78      0.65       218\n",
            "           2       0.66      0.64      0.65       193\n",
            "           3       0.92      0.77      0.84       185\n",
            "\n",
            "    accuracy                           0.72       773\n",
            "   macro avg       0.77      0.71      0.73       773\n",
            "weighted avg       0.75      0.72      0.72       773\n",
            "\n"
          ]
        }
      ],
      "source": [
        "print(f\"The accuracy from SVM sentiment classification: {svm_topic_accuracy}\")\n",
        "print(f\"with f1 score: {svm_topic_f1}\")\n",
        "print(classification_report(y_true = y_test, y_pred = svm_topic_yhat ))"
      ]
    },
    {
      "cell_type": "code",
      "execution_count": 53,
      "metadata": {
        "colab": {
          "base_uri": "https://localhost:8080/",
          "height": 298
        },
        "id": "_TCkrWY_UghF",
        "outputId": "605f5cef-9487-4371-d994-5912ef3b29ed"
      },
      "outputs": [
        {
          "data": {
            "text/plain": [
              "Text(0.5, 1.0, 'Sentiment classification')"
            ]
          },
          "execution_count": 53,
          "metadata": {},
          "output_type": "execute_result"
        },
        {
          "data": {
            "image/png": "[encoded data removed]",
            "text/plain": [
              "<Figure size 640x480 with 2 Axes>"
            ]
          },
          "metadata": {},
          "output_type": "display_data"
        }
      ],
      "source": [
        "sns.heatmap(confusion_matrix(y_true= y_test, y_pred = svm_topic_yhat) / len(svm_topic_yhat), \n",
        "            annot = True, cmap ='coolwarm')\n",
        "plt.title('Sentiment classification')"
      ]
    },
    {
      "cell_type": "markdown",
      "metadata": {
        "id": "ZI6pHbMkUghG"
      },
      "source": [
        "**RANDOM FOREST CLASSIFIER**"
      ]
    },
    {
      "cell_type": "code",
      "execution_count": 54,
      "metadata": {
        "id": "48WlHOZ_UghG"
      },
      "outputs": [],
      "source": [
        "from sklearn.ensemble import RandomForestClassifier"
      ]
    },
    {
      "cell_type": "code",
      "execution_count": 55,
      "metadata": {
        "id": "PqXJXiipUghH"
      },
      "outputs": [],
      "source": [
        "rf_model = RandomForestClassifier()\n",
        "rf_model.fit(X_train, y_train)\n",
        "rf_topic_yhat = rf_model.predict(X_test)\n",
        "rf_topic_accuracy = accuracy_score(y_true = y_test, y_pred = rf_topic_yhat )\n",
        "rf_topic_f1 = f1_score(y_true = y_test, y_pred = rf_topic_yhat, average = 'weighted')"
      ]
    },
    {
      "cell_type": "code",
      "execution_count": 56,
      "metadata": {
        "colab": {
          "base_uri": "https://localhost:8080/"
        },
        "id": "L5_A4f54UghH",
        "outputId": "2cb13280-58f2-480c-f6dc-0afb2f048d12"
      },
      "outputs": [
        {
          "name": "stdout",
          "output_type": "stream",
          "text": [
            "The accuracy from SVM sentiment classification: 0.7153945666235446\n",
            "with f1 score: 0.7223416380852121\n",
            "              precision    recall  f1-score   support\n",
            "\n",
            "           0       0.88      0.72      0.79       177\n",
            "           1       0.59      0.68      0.63       218\n",
            "           2       0.60      0.68      0.64       193\n",
            "           3       0.92      0.79      0.85       185\n",
            "\n",
            "    accuracy                           0.72       773\n",
            "   macro avg       0.75      0.72      0.73       773\n",
            "weighted avg       0.74      0.72      0.72       773\n",
            "\n"
          ]
        }
      ],
      "source": [
        "print(f\"The accuracy from SVM sentiment classification: {rf_topic_accuracy}\")\n",
        "print(f\"with f1 score: {rf_topic_f1}\")\n",
        "print(classification_report(y_true = y_test, y_pred = rf_topic_yhat ))"
      ]
    },
    {
      "cell_type": "code",
      "execution_count": 57,
      "metadata": {
        "colab": {
          "base_uri": "https://localhost:8080/",
          "height": 298
        },
        "id": "FQfrWhRKUghI",
        "outputId": "f8744645-69cf-478b-9450-ca098be4d9c2"
      },
      "outputs": [
        {
          "data": {
            "text/plain": [
              "Text(0.5, 1.0, 'Sentiment classification')"
            ]
          },
          "execution_count": 57,
          "metadata": {},
          "output_type": "execute_result"
        },
        {
          "data": {
            "image/png": "[encoded data removed]",
            "text/plain": [
              "<Figure size 640x480 with 2 Axes>"
            ]
          },
          "metadata": {},
          "output_type": "display_data"
        }
      ],
      "source": [
        "sns.heatmap(confusion_matrix(y_true= y_test, y_pred = rf_topic_yhat) / len(rf_topic_yhat), \n",
        "            annot = True, cmap ='coolwarm')\n",
        "plt.title('Sentiment classification')"
      ]
    },
    {
      "cell_type": "code",
      "execution_count": null,
      "metadata": {
        "id": "QfWrilJ0c36N"
      },
      "outputs": [],
      "source": []
    }
  ],
  "metadata": {
    "colab": {
      "provenance": []
    },
    "kernelspec": {
      "display_name": "base",
      "language": "python",
      "name": "python3"
    },
    "language_info": {
      "codemirror_mode": {
        "name": "ipython",
        "version": 3
      },
      "file_extension": ".py",
      "mimetype": "text/x-python",
      "name": "python",
      "nbconvert_exporter": "python",
      "pygments_lexer": "ipython3",
      "version": "3.9.13 (main, Aug 25 2022, 23:51:50) [MSC v.1916 64 bit (AMD64)]"
    },
    "vscode": {
      "interpreter": {
        "hash": "7f356bd54f281d400efb55e52ee9389d6ba056a0900ae7c6918c916eca767cc5"
      }
    }
  },
  "nbformat": 4,
  "nbformat_minor": 0
}
