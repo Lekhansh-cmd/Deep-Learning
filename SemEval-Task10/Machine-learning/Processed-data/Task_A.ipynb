{
  "cells": [
    {
      "cell_type": "code",
      "execution_count": 1,
      "metadata": {
        "id": "I-X5OlR1LSjM"
      },
      "outputs": [],
      "source": [
        "import pandas as pd\n",
        "import numpy as np\n",
        "import seaborn as sns\n",
        "import matplotlib.pyplot as plt"
      ]
    },
    {
      "cell_type": "code",
      "execution_count": 2,
      "metadata": {
        "colab": {
          "base_uri": "https://localhost:8080/",
          "height": 337
        },
        "id": "eP_TegZeLSjU",
        "outputId": "e3b9ad2e-1429-4de0-fc2f-381be9ebc341"
      },
      "outputs": [
        {
          "data": {
            "text/html": [
              "<div>\n",
              "<style scoped>\n",
              "    .dataframe tbody tr th:only-of-type {\n",
              "        vertical-align: middle;\n",
              "    }\n",
              "\n",
              "    .dataframe tbody tr th {\n",
              "        vertical-align: top;\n",
              "    }\n",
              "\n",
              "    .dataframe thead th {\n",
              "        text-align: right;\n",
              "    }\n",
              "</style>\n",
              "<table border=\"1\" class=\"dataframe\">\n",
              "  <thead>\n",
              "    <tr style=\"text-align: right;\">\n",
              "      <th></th>\n",
              "      <th>rewire_id</th>\n",
              "      <th>text</th>\n",
              "      <th>label_sexist</th>\n",
              "      <th>label_category</th>\n",
              "      <th>label_vector</th>\n",
              "    </tr>\n",
              "  </thead>\n",
              "  <tbody>\n",
              "    <tr>\n",
              "      <th>0</th>\n",
              "      <td>sexism2022_english-17004</td>\n",
              "      <td>This also applies to friendships with women.</td>\n",
              "      <td>sexist</td>\n",
              "      <td>2. derogation</td>\n",
              "      <td>2.2 aggressive and emotive attacks</td>\n",
              "    </tr>\n",
              "    <tr>\n",
              "      <th>1</th>\n",
              "      <td>sexism2022_english-12868</td>\n",
              "      <td>We all hate your dad...and you too!</td>\n",
              "      <td>not sexist</td>\n",
              "      <td>none</td>\n",
              "      <td>none</td>\n",
              "    </tr>\n",
              "    <tr>\n",
              "      <th>2</th>\n",
              "      <td>sexism2022_english-12428</td>\n",
              "      <td>Enoch has mixed loyalties. Jew wife and a negr...</td>\n",
              "      <td>not sexist</td>\n",
              "      <td>none</td>\n",
              "      <td>none</td>\n",
              "    </tr>\n",
              "    <tr>\n",
              "      <th>3</th>\n",
              "      <td>sexism2022_english-12446</td>\n",
              "      <td>I've been ruined for many years because of thi...</td>\n",
              "      <td>sexist</td>\n",
              "      <td>2. derogation</td>\n",
              "      <td>2.2 aggressive and emotive attacks</td>\n",
              "    </tr>\n",
              "    <tr>\n",
              "      <th>4</th>\n",
              "      <td>sexism2022_english-17844</td>\n",
              "      <td>Thank you Richard and a good morning to you. A...</td>\n",
              "      <td>not sexist</td>\n",
              "      <td>none</td>\n",
              "      <td>none</td>\n",
              "    </tr>\n",
              "  </tbody>\n",
              "</table>\n",
              "</div>"
            ],
            "text/plain": [
              "                  rewire_id  \\\n",
              "0  sexism2022_english-17004   \n",
              "1  sexism2022_english-12868   \n",
              "2  sexism2022_english-12428   \n",
              "3  sexism2022_english-12446   \n",
              "4  sexism2022_english-17844   \n",
              "\n",
              "                                                text label_sexist  \\\n",
              "0       This also applies to friendships with women.       sexist   \n",
              "1                We all hate your dad...and you too!   not sexist   \n",
              "2  Enoch has mixed loyalties. Jew wife and a negr...   not sexist   \n",
              "3  I've been ruined for many years because of thi...       sexist   \n",
              "4  Thank you Richard and a good morning to you. A...   not sexist   \n",
              "\n",
              "  label_category                        label_vector  \n",
              "0  2. derogation  2.2 aggressive and emotive attacks  \n",
              "1           none                                none  \n",
              "2           none                                none  \n",
              "3  2. derogation  2.2 aggressive and emotive attacks  \n",
              "4           none                                none  "
            ]
          },
          "execution_count": 2,
          "metadata": {},
          "output_type": "execute_result"
        }
      ],
      "source": [
        "df = pd.read_csv(\"C:/Users/mufdu/Documents/Deep-Learning/SemEval-Task10/data/shufled_data2.csv\")\n",
        "df.head(5)"
      ]
    },
    {
      "cell_type": "code",
      "execution_count": 3,
      "metadata": {},
      "outputs": [],
      "source": [
        "import contractions\n",
        "\n",
        "for index, row in df.iterrows():\n",
        "  row['text'] = contractions.fix(row['text'])"
      ]
    },
    {
      "cell_type": "code",
      "execution_count": 4,
      "metadata": {
        "colab": {
          "base_uri": "https://localhost:8080/",
          "height": 392
        },
        "id": "cgneydW-M679",
        "outputId": "682cb451-8daa-4572-92b9-087fa306e90b"
      },
      "outputs": [
        {
          "name": "stderr",
          "output_type": "stream",
          "text": [
            "C:\\Users\\mufdu\\AppData\\Local\\Temp\\ipykernel_35344\\3390418588.py:3: FutureWarning: The default value of regex will change from True to False in a future version.\n",
            "  df['text'] = df['text'].str.replace('[(#@&!?)]','')\n",
            "C:\\Users\\mufdu\\AppData\\Local\\Temp\\ipykernel_35344\\3390418588.py:4: FutureWarning: The default value of regex will change from True to False in a future version.\n",
            "  df['text'] = df['text'].str.replace(r'[^\\w\\s]+', '')\n"
          ]
        },
        {
          "data": {
            "text/html": [
              "<div>\n",
              "<style scoped>\n",
              "    .dataframe tbody tr th:only-of-type {\n",
              "        vertical-align: middle;\n",
              "    }\n",
              "\n",
              "    .dataframe tbody tr th {\n",
              "        vertical-align: top;\n",
              "    }\n",
              "\n",
              "    .dataframe thead th {\n",
              "        text-align: right;\n",
              "    }\n",
              "</style>\n",
              "<table border=\"1\" class=\"dataframe\">\n",
              "  <thead>\n",
              "    <tr style=\"text-align: right;\">\n",
              "      <th></th>\n",
              "      <th>rewire_id</th>\n",
              "      <th>text</th>\n",
              "      <th>label_sexist</th>\n",
              "      <th>label_category</th>\n",
              "      <th>label_vector</th>\n",
              "    </tr>\n",
              "  </thead>\n",
              "  <tbody>\n",
              "    <tr>\n",
              "      <th>0</th>\n",
              "      <td>sexism2022_english-17004</td>\n",
              "      <td>This also applies to friendships with women</td>\n",
              "      <td>sexist</td>\n",
              "      <td>2. derogation</td>\n",
              "      <td>2.2 aggressive and emotive attacks</td>\n",
              "    </tr>\n",
              "    <tr>\n",
              "      <th>1</th>\n",
              "      <td>sexism2022_english-12868</td>\n",
              "      <td>We all hate your dadand you too</td>\n",
              "      <td>not sexist</td>\n",
              "      <td>none</td>\n",
              "      <td>none</td>\n",
              "    </tr>\n",
              "    <tr>\n",
              "      <th>2</th>\n",
              "      <td>sexism2022_english-12428</td>\n",
              "      <td>Enoch has mixed loyalties Jew wife and a negro...</td>\n",
              "      <td>not sexist</td>\n",
              "      <td>none</td>\n",
              "      <td>none</td>\n",
              "    </tr>\n",
              "    <tr>\n",
              "      <th>3</th>\n",
              "      <td>sexism2022_english-12446</td>\n",
              "      <td>I have been ruined for many years because of t...</td>\n",
              "      <td>sexist</td>\n",
              "      <td>2. derogation</td>\n",
              "      <td>2.2 aggressive and emotive attacks</td>\n",
              "    </tr>\n",
              "    <tr>\n",
              "      <th>4</th>\n",
              "      <td>sexism2022_english-17844</td>\n",
              "      <td>Thank you Richard and a good morning to you A ...</td>\n",
              "      <td>not sexist</td>\n",
              "      <td>none</td>\n",
              "      <td>none</td>\n",
              "    </tr>\n",
              "  </tbody>\n",
              "</table>\n",
              "</div>"
            ],
            "text/plain": [
              "                  rewire_id  \\\n",
              "0  sexism2022_english-17004   \n",
              "1  sexism2022_english-12868   \n",
              "2  sexism2022_english-12428   \n",
              "3  sexism2022_english-12446   \n",
              "4  sexism2022_english-17844   \n",
              "\n",
              "                                                text label_sexist  \\\n",
              "0        This also applies to friendships with women       sexist   \n",
              "1                    We all hate your dadand you too   not sexist   \n",
              "2  Enoch has mixed loyalties Jew wife and a negro...   not sexist   \n",
              "3  I have been ruined for many years because of t...       sexist   \n",
              "4  Thank you Richard and a good morning to you A ...   not sexist   \n",
              "\n",
              "  label_category                        label_vector  \n",
              "0  2. derogation  2.2 aggressive and emotive attacks  \n",
              "1           none                                none  \n",
              "2           none                                none  \n",
              "3  2. derogation  2.2 aggressive and emotive attacks  \n",
              "4           none                                none  "
            ]
          },
          "execution_count": 4,
          "metadata": {},
          "output_type": "execute_result"
        }
      ],
      "source": [
        "####df['text'] = df['text'].str.replace(r'[^\\w\\s]+', '')\n",
        "\n",
        "df['text'] = df['text'].str.replace('[(#@&!?)]','')\n",
        "df['text'] = df['text'].str.replace(r'[^\\w\\s]+', '')\n",
        "\n",
        "df.head(5)"
      ]
    },
    {
      "cell_type": "code",
      "execution_count": 7,
      "metadata": {
        "colab": {
          "base_uri": "https://localhost:8080/",
          "height": 337
        },
        "id": "LzVKTpaCNEHo",
        "outputId": "55e9b1b4-8955-4af4-ce71-43c123a5a7c6"
      },
      "outputs": [
        {
          "data": {
            "text/html": [
              "<div>\n",
              "<style scoped>\n",
              "    .dataframe tbody tr th:only-of-type {\n",
              "        vertical-align: middle;\n",
              "    }\n",
              "\n",
              "    .dataframe tbody tr th {\n",
              "        vertical-align: top;\n",
              "    }\n",
              "\n",
              "    .dataframe thead th {\n",
              "        text-align: right;\n",
              "    }\n",
              "</style>\n",
              "<table border=\"1\" class=\"dataframe\">\n",
              "  <thead>\n",
              "    <tr style=\"text-align: right;\">\n",
              "      <th></th>\n",
              "      <th>rewire_id</th>\n",
              "      <th>text</th>\n",
              "      <th>label_sexist</th>\n",
              "      <th>label_category</th>\n",
              "      <th>label_vector</th>\n",
              "    </tr>\n",
              "  </thead>\n",
              "  <tbody>\n",
              "    <tr>\n",
              "      <th>0</th>\n",
              "      <td>sexism2022_english-17004</td>\n",
              "      <td>this also applies to friendships with women</td>\n",
              "      <td>sexist</td>\n",
              "      <td>2. derogation</td>\n",
              "      <td>2.2 aggressive and emotive attacks</td>\n",
              "    </tr>\n",
              "    <tr>\n",
              "      <th>1</th>\n",
              "      <td>sexism2022_english-12868</td>\n",
              "      <td>we all hate your dadand you too</td>\n",
              "      <td>not sexist</td>\n",
              "      <td>none</td>\n",
              "      <td>none</td>\n",
              "    </tr>\n",
              "    <tr>\n",
              "      <th>2</th>\n",
              "      <td>sexism2022_english-12428</td>\n",
              "      <td>enoch has mixed loyalties jew wife and a negro...</td>\n",
              "      <td>not sexist</td>\n",
              "      <td>none</td>\n",
              "      <td>none</td>\n",
              "    </tr>\n",
              "    <tr>\n",
              "      <th>3</th>\n",
              "      <td>sexism2022_english-12446</td>\n",
              "      <td>i have been ruined for many years because of t...</td>\n",
              "      <td>sexist</td>\n",
              "      <td>2. derogation</td>\n",
              "      <td>2.2 aggressive and emotive attacks</td>\n",
              "    </tr>\n",
              "    <tr>\n",
              "      <th>4</th>\n",
              "      <td>sexism2022_english-17844</td>\n",
              "      <td>thank you richard and a good morning to you a ...</td>\n",
              "      <td>not sexist</td>\n",
              "      <td>none</td>\n",
              "      <td>none</td>\n",
              "    </tr>\n",
              "  </tbody>\n",
              "</table>\n",
              "</div>"
            ],
            "text/plain": [
              "                  rewire_id  \\\n",
              "0  sexism2022_english-17004   \n",
              "1  sexism2022_english-12868   \n",
              "2  sexism2022_english-12428   \n",
              "3  sexism2022_english-12446   \n",
              "4  sexism2022_english-17844   \n",
              "\n",
              "                                                text label_sexist  \\\n",
              "0        this also applies to friendships with women       sexist   \n",
              "1                    we all hate your dadand you too   not sexist   \n",
              "2  enoch has mixed loyalties jew wife and a negro...   not sexist   \n",
              "3  i have been ruined for many years because of t...       sexist   \n",
              "4  thank you richard and a good morning to you a ...   not sexist   \n",
              "\n",
              "  label_category                        label_vector  \n",
              "0  2. derogation  2.2 aggressive and emotive attacks  \n",
              "1           none                                none  \n",
              "2           none                                none  \n",
              "3  2. derogation  2.2 aggressive and emotive attacks  \n",
              "4           none                                none  "
            ]
          },
          "execution_count": 7,
          "metadata": {},
          "output_type": "execute_result"
        }
      ],
      "source": [
        "df[\"text\"] = df[\"text\"].str.replace(\"URL\",\"\")\n",
        "df[\"text\"] = df[\"text\"].str.replace(\"USER\",\"\")\n",
        "df[\"text\"] = df[\"text\"].str.lower()\n",
        "df.head(5)"
      ]
    },
    {
      "cell_type": "code",
      "execution_count": 8,
      "metadata": {
        "colab": {
          "base_uri": "https://localhost:8080/",
          "height": 641
        },
        "id": "DtSixwi7NK91",
        "outputId": "05836db6-ed46-4a76-adde-9c00f6e81068"
      },
      "outputs": [
        {
          "data": {
            "text/html": [
              "<div>\n",
              "<style scoped>\n",
              "    .dataframe tbody tr th:only-of-type {\n",
              "        vertical-align: middle;\n",
              "    }\n",
              "\n",
              "    .dataframe tbody tr th {\n",
              "        vertical-align: top;\n",
              "    }\n",
              "\n",
              "    .dataframe thead th {\n",
              "        text-align: right;\n",
              "    }\n",
              "</style>\n",
              "<table border=\"1\" class=\"dataframe\">\n",
              "  <thead>\n",
              "    <tr style=\"text-align: right;\">\n",
              "      <th></th>\n",
              "      <th>rewire_id</th>\n",
              "      <th>text</th>\n",
              "      <th>label_sexist</th>\n",
              "      <th>label_category</th>\n",
              "      <th>label_vector</th>\n",
              "    </tr>\n",
              "  </thead>\n",
              "  <tbody>\n",
              "    <tr>\n",
              "      <th>0</th>\n",
              "      <td>sexism2022_english-17004</td>\n",
              "      <td>this also applies to friendships with women</td>\n",
              "      <td>sexist</td>\n",
              "      <td>2. derogation</td>\n",
              "      <td>2.2 aggressive and emotive attacks</td>\n",
              "    </tr>\n",
              "    <tr>\n",
              "      <th>1</th>\n",
              "      <td>sexism2022_english-12868</td>\n",
              "      <td>we all hate your dadand you too</td>\n",
              "      <td>not sexist</td>\n",
              "      <td>none</td>\n",
              "      <td>none</td>\n",
              "    </tr>\n",
              "    <tr>\n",
              "      <th>2</th>\n",
              "      <td>sexism2022_english-12428</td>\n",
              "      <td>enoch has mixed loyalties jew wife and a negro...</td>\n",
              "      <td>not sexist</td>\n",
              "      <td>none</td>\n",
              "      <td>none</td>\n",
              "    </tr>\n",
              "    <tr>\n",
              "      <th>3</th>\n",
              "      <td>sexism2022_english-12446</td>\n",
              "      <td>i have been ruined for many years because of t...</td>\n",
              "      <td>sexist</td>\n",
              "      <td>2. derogation</td>\n",
              "      <td>2.2 aggressive and emotive attacks</td>\n",
              "    </tr>\n",
              "    <tr>\n",
              "      <th>4</th>\n",
              "      <td>sexism2022_english-17844</td>\n",
              "      <td>thank you richard and a good morning to you a ...</td>\n",
              "      <td>not sexist</td>\n",
              "      <td>none</td>\n",
              "      <td>none</td>\n",
              "    </tr>\n",
              "    <tr>\n",
              "      <th>...</th>\n",
              "      <td>...</td>\n",
              "      <td>...</td>\n",
              "      <td>...</td>\n",
              "      <td>...</td>\n",
              "      <td>...</td>\n",
              "    </tr>\n",
              "    <tr>\n",
              "      <th>17345</th>\n",
              "      <td>sexism2022_english-6478</td>\n",
              "      <td>howzabout if i flip them this way no</td>\n",
              "      <td>not sexist</td>\n",
              "      <td>none</td>\n",
              "      <td>none</td>\n",
              "    </tr>\n",
              "    <tr>\n",
              "      <th>17346</th>\n",
              "      <td>sexism2022_english-9798</td>\n",
              "      <td>women always have hidden goals</td>\n",
              "      <td>sexist</td>\n",
              "      <td>2. derogation</td>\n",
              "      <td>2.1 descriptive attacks</td>\n",
              "    </tr>\n",
              "    <tr>\n",
              "      <th>17347</th>\n",
              "      <td>sexism2022_english-10721</td>\n",
              "      <td>i am a mgtow bro no one stealing my money i ju...</td>\n",
              "      <td>not sexist</td>\n",
              "      <td>none</td>\n",
              "      <td>none</td>\n",
              "    </tr>\n",
              "    <tr>\n",
              "      <th>17348</th>\n",
              "      <td>sexism2022_english-14520</td>\n",
              "      <td>you know what they say people who rape in glas...</td>\n",
              "      <td>not sexist</td>\n",
              "      <td>none</td>\n",
              "      <td>none</td>\n",
              "    </tr>\n",
              "    <tr>\n",
              "      <th>17349</th>\n",
              "      <td>sexism2022_english-19411</td>\n",
              "      <td>i define success by women considering you wort...</td>\n",
              "      <td>not sexist</td>\n",
              "      <td>none</td>\n",
              "      <td>none</td>\n",
              "    </tr>\n",
              "  </tbody>\n",
              "</table>\n",
              "<p>17350 rows × 5 columns</p>\n",
              "</div>"
            ],
            "text/plain": [
              "                      rewire_id  \\\n",
              "0      sexism2022_english-17004   \n",
              "1      sexism2022_english-12868   \n",
              "2      sexism2022_english-12428   \n",
              "3      sexism2022_english-12446   \n",
              "4      sexism2022_english-17844   \n",
              "...                         ...   \n",
              "17345   sexism2022_english-6478   \n",
              "17346   sexism2022_english-9798   \n",
              "17347  sexism2022_english-10721   \n",
              "17348  sexism2022_english-14520   \n",
              "17349  sexism2022_english-19411   \n",
              "\n",
              "                                                    text label_sexist  \\\n",
              "0            this also applies to friendships with women       sexist   \n",
              "1                        we all hate your dadand you too   not sexist   \n",
              "2      enoch has mixed loyalties jew wife and a negro...   not sexist   \n",
              "3      i have been ruined for many years because of t...       sexist   \n",
              "4      thank you richard and a good morning to you a ...   not sexist   \n",
              "...                                                  ...          ...   \n",
              "17345               howzabout if i flip them this way no   not sexist   \n",
              "17346                     women always have hidden goals       sexist   \n",
              "17347  i am a mgtow bro no one stealing my money i ju...   not sexist   \n",
              "17348  you know what they say people who rape in glas...   not sexist   \n",
              "17349  i define success by women considering you wort...   not sexist   \n",
              "\n",
              "      label_category                        label_vector  \n",
              "0      2. derogation  2.2 aggressive and emotive attacks  \n",
              "1               none                                none  \n",
              "2               none                                none  \n",
              "3      2. derogation  2.2 aggressive and emotive attacks  \n",
              "4               none                                none  \n",
              "...              ...                                 ...  \n",
              "17345           none                                none  \n",
              "17346  2. derogation             2.1 descriptive attacks  \n",
              "17347           none                                none  \n",
              "17348           none                                none  \n",
              "17349           none                                none  \n",
              "\n",
              "[17350 rows x 5 columns]"
            ]
          },
          "execution_count": 8,
          "metadata": {},
          "output_type": "execute_result"
        }
      ],
      "source": [
        "df.astype(str).apply(lambda x: x.str.encode('ascii', 'ignore').str.decode('ascii'))"
      ]
    },
    {
      "cell_type": "code",
      "execution_count": 9,
      "metadata": {
        "colab": {
          "base_uri": "https://localhost:8080/",
          "height": 254
        },
        "id": "ljj7gXRGOHWr",
        "outputId": "a10c297c-8495-448d-cff6-c0985af7694c"
      },
      "outputs": [
        {
          "data": {
            "text/html": [
              "<div>\n",
              "<style scoped>\n",
              "    .dataframe tbody tr th:only-of-type {\n",
              "        vertical-align: middle;\n",
              "    }\n",
              "\n",
              "    .dataframe tbody tr th {\n",
              "        vertical-align: top;\n",
              "    }\n",
              "\n",
              "    .dataframe thead tr th {\n",
              "        text-align: left;\n",
              "    }\n",
              "\n",
              "    .dataframe thead tr:last-of-type th {\n",
              "        text-align: right;\n",
              "    }\n",
              "</style>\n",
              "<table border=\"1\" class=\"dataframe\">\n",
              "  <thead>\n",
              "    <tr>\n",
              "      <th></th>\n",
              "      <th colspan=\"4\" halign=\"left\">rewire_id</th>\n",
              "      <th colspan=\"4\" halign=\"left\">text</th>\n",
              "      <th colspan=\"4\" halign=\"left\">label_category</th>\n",
              "      <th colspan=\"4\" halign=\"left\">label_vector</th>\n",
              "    </tr>\n",
              "    <tr>\n",
              "      <th></th>\n",
              "      <th>count</th>\n",
              "      <th>unique</th>\n",
              "      <th>top</th>\n",
              "      <th>freq</th>\n",
              "      <th>count</th>\n",
              "      <th>unique</th>\n",
              "      <th>top</th>\n",
              "      <th>freq</th>\n",
              "      <th>count</th>\n",
              "      <th>unique</th>\n",
              "      <th>top</th>\n",
              "      <th>freq</th>\n",
              "      <th>count</th>\n",
              "      <th>unique</th>\n",
              "      <th>top</th>\n",
              "      <th>freq</th>\n",
              "    </tr>\n",
              "    <tr>\n",
              "      <th>label_sexist</th>\n",
              "      <th></th>\n",
              "      <th></th>\n",
              "      <th></th>\n",
              "      <th></th>\n",
              "      <th></th>\n",
              "      <th></th>\n",
              "      <th></th>\n",
              "      <th></th>\n",
              "      <th></th>\n",
              "      <th></th>\n",
              "      <th></th>\n",
              "      <th></th>\n",
              "      <th></th>\n",
              "      <th></th>\n",
              "      <th></th>\n",
              "      <th></th>\n",
              "    </tr>\n",
              "  </thead>\n",
              "  <tbody>\n",
              "    <tr>\n",
              "      <th>not sexist</th>\n",
              "      <td>10602</td>\n",
              "      <td>10602</td>\n",
              "      <td>sexism2022_english-12868</td>\n",
              "      <td>1</td>\n",
              "      <td>10602</td>\n",
              "      <td>10601</td>\n",
              "      <td>trump demands prison for huma abedin like her ...</td>\n",
              "      <td>2</td>\n",
              "      <td>10602</td>\n",
              "      <td>1</td>\n",
              "      <td>none</td>\n",
              "      <td>10602</td>\n",
              "      <td>10602</td>\n",
              "      <td>1</td>\n",
              "      <td>none</td>\n",
              "      <td>10602</td>\n",
              "    </tr>\n",
              "    <tr>\n",
              "      <th>sexist</th>\n",
              "      <td>6748</td>\n",
              "      <td>3398</td>\n",
              "      <td>sexism2022_english-17004</td>\n",
              "      <td>2</td>\n",
              "      <td>6748</td>\n",
              "      <td>6704</td>\n",
              "      <td>not a good look for asian women and so much fo...</td>\n",
              "      <td>2</td>\n",
              "      <td>6748</td>\n",
              "      <td>4</td>\n",
              "      <td>2. derogation</td>\n",
              "      <td>3154</td>\n",
              "      <td>6748</td>\n",
              "      <td>11</td>\n",
              "      <td>2.1 descriptive attacks</td>\n",
              "      <td>1423</td>\n",
              "    </tr>\n",
              "  </tbody>\n",
              "</table>\n",
              "</div>"
            ],
            "text/plain": [
              "             rewire_id                                         text         \\\n",
              "                 count unique                       top freq  count unique   \n",
              "label_sexist                                                                 \n",
              "not sexist       10602  10602  sexism2022_english-12868    1  10602  10601   \n",
              "sexist            6748   3398  sexism2022_english-17004    2   6748   6704   \n",
              "\n",
              "                                                                      \\\n",
              "                                                            top freq   \n",
              "label_sexist                                                           \n",
              "not sexist    trump demands prison for huma abedin like her ...    2   \n",
              "sexist        not a good look for asian women and so much fo...    2   \n",
              "\n",
              "             label_category                              label_vector         \\\n",
              "                      count unique            top   freq        count unique   \n",
              "label_sexist                                                                   \n",
              "not sexist            10602      1           none  10602        10602      1   \n",
              "sexist                 6748      4  2. derogation   3154         6748     11   \n",
              "\n",
              "                                              \n",
              "                                  top   freq  \n",
              "label_sexist                                  \n",
              "not sexist                       none  10602  \n",
              "sexist        2.1 descriptive attacks   1423  "
            ]
          },
          "execution_count": 9,
          "metadata": {},
          "output_type": "execute_result"
        }
      ],
      "source": [
        "df.groupby('label_sexist').describe()"
      ]
    },
    {
      "cell_type": "code",
      "execution_count": 10,
      "metadata": {
        "colab": {
          "base_uri": "https://localhost:8080/"
        },
        "id": "wZq3iHObOOZK",
        "outputId": "cc3dbdf9-1ed3-47ff-fd32-82cddde99afb"
      },
      "outputs": [
        {
          "data": {
            "text/plain": [
              "not sexist    10602\n",
              "sexist         6748\n",
              "Name: label_sexist, dtype: int64"
            ]
          },
          "execution_count": 10,
          "metadata": {},
          "output_type": "execute_result"
        }
      ],
      "source": [
        "df['label_sexist'].value_counts()"
      ]
    },
    {
      "cell_type": "code",
      "execution_count": 11,
      "metadata": {
        "colab": {
          "base_uri": "https://localhost:8080/",
          "height": 423
        },
        "id": "c829WM8DOVwx",
        "outputId": "6667aa6b-90ef-4592-e0cf-99f9e324ec3e"
      },
      "outputs": [
        {
          "name": "stderr",
          "output_type": "stream",
          "text": [
            "c:\\Users\\mufdu\\anaconda3\\lib\\site-packages\\seaborn\\_decorators.py:36: FutureWarning: Pass the following variable as a keyword arg: x. From version 0.12, the only valid positional argument will be `data`, and passing other arguments without an explicit keyword will result in an error or misinterpretation.\n",
            "  warnings.warn(\n"
          ]
        },
        {
          "data": {
            "text/plain": [
              "<AxesSubplot:title={'center':'Train Data'}, xlabel='label_sexist', ylabel='count'>"
            ]
          },
          "execution_count": 11,
          "metadata": {},
          "output_type": "execute_result"
        },
        {
          "data": {
            "image/png": "[encoded data removed]",
            "text/plain": [
              "<Figure size 1700x500 with 1 Axes>"
            ]
          },
          "metadata": {},
          "output_type": "display_data"
        }
      ],
      "source": [
        "# 0 -> Non_sexist\n",
        "# 1 -> Sexist\n",
        "import matplotlib.pyplot as plt\n",
        "import seaborn as sns\n",
        "\n",
        "plt.figure(figsize=(17,5))\n",
        "plt.subplot(1,3,1)\n",
        "plt.title('Train Data')\n",
        "sns.countplot(df.label_sexist)"
      ]
    },
    {
      "cell_type": "code",
      "execution_count": 12,
      "metadata": {
        "id": "1G8PI4BILSjX"
      },
      "outputs": [],
      "source": [
        "from sklearn.feature_extraction.text import TfidfVectorizer\n",
        "from sklearn.model_selection import train_test_split\n",
        "from sklearn.preprocessing import LabelEncoder"
      ]
    },
    {
      "cell_type": "code",
      "execution_count": 14,
      "metadata": {
        "id": "XPbT9kqnLSjZ"
      },
      "outputs": [],
      "source": [
        "X = df.text\n",
        "tfid_vec = TfidfVectorizer().fit(X)\n",
        "X_corpus =  tfid_vec.transform(X)"
      ]
    },
    {
      "cell_type": "code",
      "execution_count": 15,
      "metadata": {
        "colab": {
          "base_uri": "https://localhost:8080/"
        },
        "id": "xlBicdvfLSjb",
        "outputId": "aee8f797-bfdf-401f-e0b7-11381b8821db"
      },
      "outputs": [
        {
          "data": {
            "text/plain": [
              "(17350, 23639)"
            ]
          },
          "execution_count": 15,
          "metadata": {},
          "output_type": "execute_result"
        }
      ],
      "source": [
        "X_corpus.shape"
      ]
    },
    {
      "cell_type": "code",
      "execution_count": 16,
      "metadata": {
        "id": "6jp5mpJqLSjd"
      },
      "outputs": [],
      "source": [
        "X = df.text\n",
        "y = df.label_sexist\n",
        "label_encoder = LabelEncoder().fit(y)\n",
        "encoded_y = label_encoder.transform(y)"
      ]
    },
    {
      "cell_type": "code",
      "execution_count": 17,
      "metadata": {
        "id": "WUpvGOrRLSjf"
      },
      "outputs": [],
      "source": [
        "from sklearn.model_selection import train_test_split\n",
        "from sklearn.metrics import confusion_matrix, accuracy_score, classification_report\n",
        "from sklearn.metrics import f1_score"
      ]
    },
    {
      "cell_type": "code",
      "execution_count": 18,
      "metadata": {
        "id": "lw4hmURTLSjg"
      },
      "outputs": [],
      "source": [
        "X_train, X_test, y_train, y_test = train_test_split(X_corpus, encoded_y , random_state =4)"
      ]
    },
    {
      "cell_type": "code",
      "execution_count": 19,
      "metadata": {
        "colab": {
          "base_uri": "https://localhost:8080/"
        },
        "id": "tXjA8kMdLSjh",
        "outputId": "e7a6d76f-e6fe-4794-d7ab-ae658f8c305f"
      },
      "outputs": [
        {
          "name": "stdout",
          "output_type": "stream",
          "text": [
            "(13012, 23639)\n",
            "(4338, 23639)\n"
          ]
        }
      ],
      "source": [
        "print(X_train.shape)\n",
        "print(X_test.shape)"
      ]
    },
    {
      "cell_type": "markdown",
      "metadata": {
        "id": "MQm7maSHLSjj"
      },
      "source": [
        "**LOGISTIC REGRESSION**"
      ]
    },
    {
      "cell_type": "code",
      "execution_count": 20,
      "metadata": {
        "id": "K0MJmGRfLSjn"
      },
      "outputs": [],
      "source": [
        "from sklearn.linear_model import LogisticRegression"
      ]
    },
    {
      "cell_type": "code",
      "execution_count": 21,
      "metadata": {
        "id": "TLUis6mELSjo"
      },
      "outputs": [],
      "source": [
        "l_model = LogisticRegression()\n",
        "l_model.fit(X_train, y_train)\n",
        "l_sentiment_yhat = l_model.predict(X_test)\n",
        "l_sentiment_accuracy = accuracy_score(y_true = y_test, y_pred = l_sentiment_yhat)\n",
        "l_sentiment_f1 = f1_score(y_true = y_test, y_pred =l_sentiment_yhat)"
      ]
    },
    {
      "cell_type": "code",
      "execution_count": 22,
      "metadata": {
        "colab": {
          "base_uri": "https://localhost:8080/"
        },
        "id": "kL7iHyUnLSjp",
        "outputId": "808934da-990b-46a5-fb3a-e4be2972b045"
      },
      "outputs": [
        {
          "name": "stdout",
          "output_type": "stream",
          "text": [
            "The accuracy from logistic sentiment classification: 0.7704011065006916\n",
            "with f1 score: 0.6563146997929606\n",
            "              precision    recall  f1-score   support\n",
            "\n",
            "           0       0.76      0.91      0.83      2622\n",
            "           1       0.80      0.55      0.66      1716\n",
            "\n",
            "    accuracy                           0.77      4338\n",
            "   macro avg       0.78      0.73      0.74      4338\n",
            "weighted avg       0.78      0.77      0.76      4338\n",
            "\n"
          ]
        }
      ],
      "source": [
        "print(f\"The accuracy from logistic sentiment classification: {l_sentiment_accuracy}\")\n",
        "print(f\"with f1 score: {l_sentiment_f1}\")\n",
        "print(classification_report(y_true = y_test, y_pred = l_sentiment_yhat ))"
      ]
    },
    {
      "cell_type": "code",
      "execution_count": 23,
      "metadata": {
        "colab": {
          "base_uri": "https://localhost:8080/",
          "height": 298
        },
        "id": "mWu88_8HLSjq",
        "outputId": "1aa2cdb4-5ed6-443d-f850-c1cd3a60b275"
      },
      "outputs": [
        {
          "data": {
            "text/plain": [
              "Text(0.5, 1.0, 'Sentiment classification')"
            ]
          },
          "execution_count": 23,
          "metadata": {},
          "output_type": "execute_result"
        },
        {
          "data": {
            "image/png": "[encoded data removed]",
            "text/plain": [
              "<Figure size 640x480 with 2 Axes>"
            ]
          },
          "metadata": {},
          "output_type": "display_data"
        }
      ],
      "source": [
        "sns.heatmap(confusion_matrix(y_true= y_test, y_pred = l_sentiment_yhat) / len(l_sentiment_yhat), \n",
        "            annot = True, cmap ='coolwarm')\n",
        "plt.title('Sentiment classification')"
      ]
    },
    {
      "cell_type": "markdown",
      "metadata": {
        "id": "PZBHd2KOLSjs"
      },
      "source": [
        "**Support Vector Classification SVC**"
      ]
    },
    {
      "cell_type": "code",
      "execution_count": 24,
      "metadata": {
        "id": "4qD1RPxqLSjt"
      },
      "outputs": [],
      "source": [
        "from sklearn.svm import SVC"
      ]
    },
    {
      "cell_type": "code",
      "execution_count": 25,
      "metadata": {
        "id": "GUNkkTeRLSju"
      },
      "outputs": [],
      "source": [
        "svm_model = SVC()\n",
        "svm_model.fit(X_train, y_train)\n",
        "svm_topic_yhat = svm_model.predict(X_test)\n",
        "svm_topic_accuracy = accuracy_score(y_true = y_test, y_pred = svm_topic_yhat )\n",
        "svm_topic_f1 = f1_score(y_true = y_test, y_pred = svm_topic_yhat, average = 'weighted')"
      ]
    },
    {
      "cell_type": "code",
      "execution_count": 26,
      "metadata": {
        "colab": {
          "base_uri": "https://localhost:8080/"
        },
        "id": "4Ik57Z3nLSjv",
        "outputId": "5b3ce343-1096-42c1-e16b-cda88aab3bf7"
      },
      "outputs": [
        {
          "name": "stdout",
          "output_type": "stream",
          "text": [
            "The accuracy from SVM sentiment classification: 0.8201936376210235\n",
            "with f1 score: 0.8138522892452208\n",
            "              precision    recall  f1-score   support\n",
            "\n",
            "           0       0.80      0.94      0.86      2622\n",
            "           1       0.87      0.64      0.74      1716\n",
            "\n",
            "    accuracy                           0.82      4338\n",
            "   macro avg       0.83      0.79      0.80      4338\n",
            "weighted avg       0.83      0.82      0.81      4338\n",
            "\n"
          ]
        }
      ],
      "source": [
        "print(f\"The accuracy from SVM sentiment classification: {svm_topic_accuracy}\")\n",
        "print(f\"with f1 score: {svm_topic_f1}\")\n",
        "print(classification_report(y_true = y_test, y_pred = svm_topic_yhat ))"
      ]
    },
    {
      "cell_type": "code",
      "execution_count": 27,
      "metadata": {
        "colab": {
          "base_uri": "https://localhost:8080/",
          "height": 298
        },
        "id": "DZ_PsaWCLSjw",
        "outputId": "992ff1ce-e9e7-4cfc-90de-e8b8e67c9e5d"
      },
      "outputs": [
        {
          "data": {
            "text/plain": [
              "Text(0.5, 1.0, 'Sentiment classification')"
            ]
          },
          "execution_count": 27,
          "metadata": {},
          "output_type": "execute_result"
        },
        {
          "data": {
            "image/png": "[encoded data removed]",
            "text/plain": [
              "<Figure size 640x480 with 2 Axes>"
            ]
          },
          "metadata": {},
          "output_type": "display_data"
        }
      ],
      "source": [
        "sns.heatmap(confusion_matrix(y_true= y_test, y_pred = svm_topic_yhat) / len(svm_topic_yhat), \n",
        "            annot = True, cmap ='coolwarm')\n",
        "plt.title('Sentiment classification')"
      ]
    },
    {
      "cell_type": "markdown",
      "metadata": {
        "id": "sshCMEWFLSjx"
      },
      "source": [
        "**RANDOM FOREST CLASSIFIER**"
      ]
    },
    {
      "cell_type": "code",
      "execution_count": 28,
      "metadata": {
        "id": "JV5xm3t1LSjy"
      },
      "outputs": [],
      "source": [
        "from sklearn.ensemble import RandomForestClassifier"
      ]
    },
    {
      "cell_type": "code",
      "execution_count": 29,
      "metadata": {
        "id": "y43HuokxLSjz"
      },
      "outputs": [],
      "source": [
        "rf_model = RandomForestClassifier()\n",
        "rf_model.fit(X_train, y_train)\n",
        "rf_topic_yhat = rf_model.predict(X_test)\n",
        "rf_topic_accuracy = accuracy_score(y_true = y_test, y_pred = rf_topic_yhat )\n",
        "rf_topic_f1 = f1_score(y_true = y_test, y_pred = rf_topic_yhat, average = 'weighted')"
      ]
    },
    {
      "cell_type": "code",
      "execution_count": 30,
      "metadata": {
        "colab": {
          "base_uri": "https://localhost:8080/"
        },
        "id": "fKg6Q6WELSjz",
        "outputId": "020e2dfc-c0c2-4789-86f1-58670a48902b"
      },
      "outputs": [
        {
          "name": "stdout",
          "output_type": "stream",
          "text": [
            "The accuracy from Random forest sentiment classification: 0.8148916551406178\n",
            "with f1 score: 0.8044005803664059\n",
            "              precision    recall  f1-score   support\n",
            "\n",
            "           0       0.78      0.96      0.86      2622\n",
            "           1       0.91      0.59      0.71      1716\n",
            "\n",
            "    accuracy                           0.81      4338\n",
            "   macro avg       0.85      0.78      0.79      4338\n",
            "weighted avg       0.83      0.81      0.80      4338\n",
            "\n"
          ]
        }
      ],
      "source": [
        "print(f\"The accuracy from Random forest sentiment classification: {rf_topic_accuracy}\")\n",
        "print(f\"with f1 score: {rf_topic_f1}\")\n",
        "print(classification_report(y_true = y_test, y_pred = rf_topic_yhat ))"
      ]
    },
    {
      "cell_type": "code",
      "execution_count": 31,
      "metadata": {
        "colab": {
          "base_uri": "https://localhost:8080/",
          "height": 298
        },
        "id": "tx7Z3g7dLSj0",
        "outputId": "aa76935b-64a3-4f91-990d-fafc34b72c37"
      },
      "outputs": [
        {
          "data": {
            "text/plain": [
              "Text(0.5, 1.0, 'Sentiment classification')"
            ]
          },
          "execution_count": 31,
          "metadata": {},
          "output_type": "execute_result"
        },
        {
          "data": {
            "image/png": "[encoded data removed]",
            "text/plain": [
              "<Figure size 640x480 with 2 Axes>"
            ]
          },
          "metadata": {},
          "output_type": "display_data"
        }
      ],
      "source": [
        "sns.heatmap(confusion_matrix(y_true= y_test, y_pred = rf_topic_yhat) / len(rf_topic_yhat), \n",
        "            annot = True, cmap ='coolwarm')\n",
        "plt.title('Sentiment classification')"
      ]
    }
  ],
  "metadata": {
    "colab": {
      "provenance": []
    },
    "kernelspec": {
      "display_name": "base",
      "language": "python",
      "name": "python3"
    },
    "language_info": {
      "codemirror_mode": {
        "name": "ipython",
        "version": 3
      },
      "file_extension": ".py",
      "mimetype": "text/x-python",
      "name": "python",
      "nbconvert_exporter": "python",
      "pygments_lexer": "ipython3",
      "version": "3.9.13 (main, Aug 25 2022, 23:51:50) [MSC v.1916 64 bit (AMD64)]"
    },
    "orig_nbformat": 4,
    "vscode": {
      "interpreter": {
        "hash": "7f356bd54f281d400efb55e52ee9389d6ba056a0900ae7c6918c916eca767cc5"
      }
    }
  },
  "nbformat": 4,
  "nbformat_minor": 0
}
